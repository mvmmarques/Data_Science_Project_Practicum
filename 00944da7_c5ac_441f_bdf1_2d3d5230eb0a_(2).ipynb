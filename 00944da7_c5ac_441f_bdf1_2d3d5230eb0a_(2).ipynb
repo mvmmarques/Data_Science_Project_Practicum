{
  "cells": [
    {
      "cell_type": "markdown",
      "metadata": {
        "id": "E0vqbgi9ay0H"
      },
      "source": [
        "# Yandex.Music"
      ]
    },
    {
      "cell_type": "markdown",
      "metadata": {
        "id": "fhq_eyov_Zcs"
      },
      "source": [
        "# Contents <a id='back'></a>\n",
        "\n",
        "* [Introducción](#intro)\n",
        "* [Etapa 1. Descripción de los datos](#data_review)\n",
        "    * [Conclusions](#data_review_conclusions)\n",
        "* [Etapa 2. Data preprocessing](#data_preprocessing)\n",
        "    * [2.1 Estilo del encabezado](#header_style)\n",
        "    * [2.2 Valores ausentes](#missing_values)\n",
        "    * [2.3 Duplicados](#duplicates)\n",
        "    * [2.4 Conclusiones](#data_preprocessing_conclusions)\n",
        "* [Etapa 3. Prueba de hipótesis](#hypotheses)\n",
        "    * [3.1 Hipótesis 1: comparar el comportamiento del usuario en las dos ciudades](#activity)\n",
        "    * [3.2 Hipótesis 2: música al principio y al final de la semana](#week)\n",
        "    * [3.3 Hipótesis 3: preferencias de género en Springfield y Shelbyville](#genre)\n",
        "* [Conclusiones](#end)"
      ]
    },
    {
      "cell_type": "markdown",
      "metadata": {
        "id": "VUC88oWjTJw2"
      },
      "source": [
        "## Introducción <a id='intro'></a>\n",
        "Siempre que investiguemos, necesitamos formular hipótesis que después podamos probar. A veces aceptamos estas hipótesis; otras, las rechazamos. Para tomar las decisiones correctas, una empresa debe ser capaz de entender si está haciendo las suposiciones correctas.\n",
        "\n",
        "En este proyecto, compararás las preferencias musicales de las ciudades de Springfield y Shelbyville. Estudiarás datos reales de Yandex.Music para probar las hipótesis de abajo y comparar el comportamiento del usuario de esas dos ciudades.\n",
        "\n",
        "### Objetivo: \n",
        "Prueba tres hipótesis: \n",
        "1. La actividad de los usuarios difiere según el día de la semana y dependiendo de la ciudad. \n",
        "2. Los lunes por la mañana, los habitantes de Springfield y Shelbyville escuchan diferentes géneros. Lo mismo ocurre con los viernes por la noche. \n",
        "3. Los oyentes de Springfield y Shelbyville tienen preferencias distintas. En Springfield prefieren el pop mientras que en Shelbyville hay más aficionados al rap.\n",
        "\n",
        "### Etapas \n",
        "Los datos del comportamiento del usuario se almacenan en el archivo `/datasets/music_project_en.csv`. No hay ninguna información sobre la calidad de los datos así que necesitarás examinarlos antes de probar las hipótesis. \n",
        "\n",
        "Primero, evaluarás la calidad de los datos y verás si los problemas son significativos. Entonces, durante el preprocesamiento de datos, tomarás en cuenta los problemas más críticos.\n",
        " \n",
        "Tu proyecto consistirá en tres etapas:\n",
        " 1. Descripción de los datos\n",
        " 2. Preprocesamiento de datos\n",
        " 3. Prueba de hipótesis\n",
        " \n",
        "[Volver a Contenidos](#back)"
      ]
    },
    {
      "cell_type": "markdown",
      "metadata": {
        "id": "c0Pwk7HNAdr-"
      },
      "source": [
        "<div class=\"alert alert-block alert-success\">\n",
        "<b>Éxito</b> <a class=\"tocSkip\"></a>\n",
        "\n",
        "Una intro a tu proyecto es imprescindible!"
      ]
    },
    {
      "cell_type": "markdown",
      "metadata": {
        "id": "Ml1hmfXC_Zcs"
      },
      "source": [
        "## Etapa 1. Descripción de los datos <a id='data_review'></a>\n",
        "\n",
        "Abre los datos en Yandex.Music y examínalos."
      ]
    },
    {
      "cell_type": "markdown",
      "metadata": {
        "id": "57eAOGIz_Zcs"
      },
      "source": [
        "Necesitarás `pandas` así que impórtalo."
      ]
    },
    {
      "cell_type": "code",
      "execution_count": null,
      "metadata": {
        "id": "AXN7PHPN_Zcs"
      },
      "outputs": [],
      "source": [
        "# importando pandas\n",
        "import pandas as pd\n",
        "\n"
      ]
    },
    {
      "cell_type": "markdown",
      "metadata": {
        "id": "SG23P8tt_Zcs"
      },
      "source": [
        "Lee el archivo `music_project_en.csv` de la carpeta `/datasets/` y guárdalo en la variable `df`:"
      ]
    },
    {
      "cell_type": "code",
      "execution_count": null,
      "metadata": {
        "id": "vewrTNLAAdsC"
      },
      "outputs": [],
      "source": [
        "#leer el archivo\n",
        "df = pd.read_csv('/datasets/music_project_en.csv')"
      ]
    },
    {
      "cell_type": "code",
      "execution_count": null,
      "metadata": {
        "id": "fFVu7vqh_Zct",
        "outputId": "fc90020f-0968-4caf-d7aa-b294baf89006"
      },
      "outputs": [
        {
          "data": {
            "text/html": [
              "<div>\n",
              "<style scoped>\n",
              "    .dataframe tbody tr th:only-of-type {\n",
              "        vertical-align: middle;\n",
              "    }\n",
              "\n",
              "    .dataframe tbody tr th {\n",
              "        vertical-align: top;\n",
              "    }\n",
              "\n",
              "    .dataframe thead th {\n",
              "        text-align: right;\n",
              "    }\n",
              "</style>\n",
              "<table border=\"1\" class=\"dataframe\">\n",
              "  <thead>\n",
              "    <tr style=\"text-align: right;\">\n",
              "      <th></th>\n",
              "      <th>userID</th>\n",
              "      <th>Track</th>\n",
              "      <th>artist</th>\n",
              "      <th>genre</th>\n",
              "      <th>City</th>\n",
              "      <th>time</th>\n",
              "      <th>Day</th>\n",
              "    </tr>\n",
              "  </thead>\n",
              "  <tbody>\n",
              "    <tr>\n",
              "      <th>count</th>\n",
              "      <td>65079</td>\n",
              "      <td>63736</td>\n",
              "      <td>57512</td>\n",
              "      <td>63881</td>\n",
              "      <td>65079</td>\n",
              "      <td>65079</td>\n",
              "      <td>65079</td>\n",
              "    </tr>\n",
              "    <tr>\n",
              "      <th>unique</th>\n",
              "      <td>41748</td>\n",
              "      <td>39666</td>\n",
              "      <td>37806</td>\n",
              "      <td>268</td>\n",
              "      <td>2</td>\n",
              "      <td>20392</td>\n",
              "      <td>3</td>\n",
              "    </tr>\n",
              "    <tr>\n",
              "      <th>top</th>\n",
              "      <td>A8AE9169</td>\n",
              "      <td>Brand</td>\n",
              "      <td>Kartvelli</td>\n",
              "      <td>pop</td>\n",
              "      <td>Springfield</td>\n",
              "      <td>08:14:07</td>\n",
              "      <td>Friday</td>\n",
              "    </tr>\n",
              "    <tr>\n",
              "      <th>freq</th>\n",
              "      <td>76</td>\n",
              "      <td>136</td>\n",
              "      <td>136</td>\n",
              "      <td>8850</td>\n",
              "      <td>45360</td>\n",
              "      <td>14</td>\n",
              "      <td>23149</td>\n",
              "    </tr>\n",
              "  </tbody>\n",
              "</table>\n",
              "</div>"
            ],
            "text/plain": [
              "          userID  Track     artist  genre       City        time     Day\n",
              "count      65079  63736      57512  63881        65079     65079   65079\n",
              "unique     41748  39666      37806    268            2     20392       3\n",
              "top     A8AE9169  Brand  Kartvelli    pop  Springfield  08:14:07  Friday\n",
              "freq          76    136        136   8850        45360        14   23149"
            ]
          },
          "execution_count": 38,
          "metadata": {},
          "output_type": "execute_result"
        }
      ],
      "source": [
        "# leyendo el archivo y almacenándolo en df\n",
        "df.describe()"
      ]
    },
    {
      "cell_type": "markdown",
      "metadata": {
        "id": "rDoOMd3uTqnZ"
      },
      "source": [
        "Imprime las 10 primeras filas de la tabla:"
      ]
    },
    {
      "cell_type": "code",
      "execution_count": null,
      "metadata": {
        "id": "oWTVX3gW_Zct",
        "outputId": "bf6ed897-dfd0-44b4-ea4a-48568268b964"
      },
      "outputs": [
        {
          "data": {
            "text/html": [
              "<div>\n",
              "<style scoped>\n",
              "    .dataframe tbody tr th:only-of-type {\n",
              "        vertical-align: middle;\n",
              "    }\n",
              "\n",
              "    .dataframe tbody tr th {\n",
              "        vertical-align: top;\n",
              "    }\n",
              "\n",
              "    .dataframe thead th {\n",
              "        text-align: right;\n",
              "    }\n",
              "</style>\n",
              "<table border=\"1\" class=\"dataframe\">\n",
              "  <thead>\n",
              "    <tr style=\"text-align: right;\">\n",
              "      <th></th>\n",
              "      <th>userID</th>\n",
              "      <th>Track</th>\n",
              "      <th>artist</th>\n",
              "      <th>genre</th>\n",
              "      <th>City</th>\n",
              "      <th>time</th>\n",
              "      <th>Day</th>\n",
              "    </tr>\n",
              "  </thead>\n",
              "  <tbody>\n",
              "    <tr>\n",
              "      <th>0</th>\n",
              "      <td>FFB692EC</td>\n",
              "      <td>Kamigata To Boots</td>\n",
              "      <td>The Mass Missile</td>\n",
              "      <td>rock</td>\n",
              "      <td>Shelbyville</td>\n",
              "      <td>20:28:33</td>\n",
              "      <td>Wednesday</td>\n",
              "    </tr>\n",
              "    <tr>\n",
              "      <th>1</th>\n",
              "      <td>55204538</td>\n",
              "      <td>Delayed Because of Accident</td>\n",
              "      <td>Andreas Rönnberg</td>\n",
              "      <td>rock</td>\n",
              "      <td>Springfield</td>\n",
              "      <td>14:07:09</td>\n",
              "      <td>Friday</td>\n",
              "    </tr>\n",
              "    <tr>\n",
              "      <th>2</th>\n",
              "      <td>20EC38</td>\n",
              "      <td>Funiculì funiculà</td>\n",
              "      <td>Mario Lanza</td>\n",
              "      <td>pop</td>\n",
              "      <td>Shelbyville</td>\n",
              "      <td>20:58:07</td>\n",
              "      <td>Wednesday</td>\n",
              "    </tr>\n",
              "    <tr>\n",
              "      <th>3</th>\n",
              "      <td>A3DD03C9</td>\n",
              "      <td>Dragons in the Sunset</td>\n",
              "      <td>Fire + Ice</td>\n",
              "      <td>folk</td>\n",
              "      <td>Shelbyville</td>\n",
              "      <td>08:37:09</td>\n",
              "      <td>Monday</td>\n",
              "    </tr>\n",
              "    <tr>\n",
              "      <th>4</th>\n",
              "      <td>E2DC1FAE</td>\n",
              "      <td>Soul People</td>\n",
              "      <td>Space Echo</td>\n",
              "      <td>dance</td>\n",
              "      <td>Springfield</td>\n",
              "      <td>08:34:34</td>\n",
              "      <td>Monday</td>\n",
              "    </tr>\n",
              "    <tr>\n",
              "      <th>5</th>\n",
              "      <td>842029A1</td>\n",
              "      <td>Chains</td>\n",
              "      <td>Obladaet</td>\n",
              "      <td>rusrap</td>\n",
              "      <td>Shelbyville</td>\n",
              "      <td>13:09:41</td>\n",
              "      <td>Friday</td>\n",
              "    </tr>\n",
              "    <tr>\n",
              "      <th>6</th>\n",
              "      <td>4CB90AA5</td>\n",
              "      <td>True</td>\n",
              "      <td>Roman Messer</td>\n",
              "      <td>dance</td>\n",
              "      <td>Springfield</td>\n",
              "      <td>13:00:07</td>\n",
              "      <td>Wednesday</td>\n",
              "    </tr>\n",
              "    <tr>\n",
              "      <th>7</th>\n",
              "      <td>F03E1C1F</td>\n",
              "      <td>Feeling This Way</td>\n",
              "      <td>Polina Griffith</td>\n",
              "      <td>dance</td>\n",
              "      <td>Springfield</td>\n",
              "      <td>20:47:49</td>\n",
              "      <td>Wednesday</td>\n",
              "    </tr>\n",
              "    <tr>\n",
              "      <th>8</th>\n",
              "      <td>8FA1D3BE</td>\n",
              "      <td>L’estate</td>\n",
              "      <td>Julia Dalia</td>\n",
              "      <td>ruspop</td>\n",
              "      <td>Springfield</td>\n",
              "      <td>09:17:40</td>\n",
              "      <td>Friday</td>\n",
              "    </tr>\n",
              "    <tr>\n",
              "      <th>9</th>\n",
              "      <td>E772D5C0</td>\n",
              "      <td>Pessimist</td>\n",
              "      <td>NaN</td>\n",
              "      <td>dance</td>\n",
              "      <td>Shelbyville</td>\n",
              "      <td>21:20:49</td>\n",
              "      <td>Wednesday</td>\n",
              "    </tr>\n",
              "  </tbody>\n",
              "</table>\n",
              "</div>"
            ],
            "text/plain": [
              "     userID                        Track            artist   genre  \\\n",
              "0  FFB692EC            Kamigata To Boots  The Mass Missile    rock   \n",
              "1  55204538  Delayed Because of Accident  Andreas Rönnberg    rock   \n",
              "2    20EC38            Funiculì funiculà       Mario Lanza     pop   \n",
              "3  A3DD03C9        Dragons in the Sunset        Fire + Ice    folk   \n",
              "4  E2DC1FAE                  Soul People        Space Echo   dance   \n",
              "5  842029A1                       Chains          Obladaet  rusrap   \n",
              "6  4CB90AA5                         True      Roman Messer   dance   \n",
              "7  F03E1C1F             Feeling This Way   Polina Griffith   dance   \n",
              "8  8FA1D3BE                     L’estate       Julia Dalia  ruspop   \n",
              "9  E772D5C0                    Pessimist               NaN   dance   \n",
              "\n",
              "        City        time        Day  \n",
              "0  Shelbyville  20:28:33  Wednesday  \n",
              "1  Springfield  14:07:09     Friday  \n",
              "2  Shelbyville  20:58:07  Wednesday  \n",
              "3  Shelbyville  08:37:09     Monday  \n",
              "4  Springfield  08:34:34     Monday  \n",
              "5  Shelbyville  13:09:41     Friday  \n",
              "6  Springfield  13:00:07  Wednesday  \n",
              "7  Springfield  20:47:49  Wednesday  \n",
              "8  Springfield  09:17:40     Friday  \n",
              "9  Shelbyville  21:20:49  Wednesday  "
            ]
          },
          "execution_count": 39,
          "metadata": {},
          "output_type": "execute_result"
        }
      ],
      "source": [
        "# obteniendo las 10 primeras filas de la tabla df\n",
        "df.head(10)"
      ]
    },
    {
      "cell_type": "markdown",
      "metadata": {
        "id": "EO73Kwic_Zct"
      },
      "source": [
        "Obtener la información general sobre la tabla con un comando:"
      ]
    },
    {
      "cell_type": "code",
      "execution_count": null,
      "metadata": {
        "id": "DSf2kIb-_Zct",
        "outputId": "376cf3e1-c76b-41d9-c663-1de222879794"
      },
      "outputs": [
        {
          "name": "stdout",
          "output_type": "stream",
          "text": [
            "<class 'pandas.core.frame.DataFrame'>\n",
            "RangeIndex: 65079 entries, 0 to 65078\n",
            "Data columns (total 7 columns):\n",
            " #   Column    Non-Null Count  Dtype \n",
            "---  ------    --------------  ----- \n",
            " 0     userID  65079 non-null  object\n",
            " 1   Track     63736 non-null  object\n",
            " 2   artist    57512 non-null  object\n",
            " 3   genre     63881 non-null  object\n",
            " 4     City    65079 non-null  object\n",
            " 5   time      65079 non-null  object\n",
            " 6   Day       65079 non-null  object\n",
            "dtypes: object(7)\n",
            "memory usage: 3.5+ MB\n"
          ]
        }
      ],
      "source": [
        "# obteniendo información general sobre los datos en df\n",
        "df.info()"
      ]
    },
    {
      "cell_type": "markdown",
      "metadata": {
        "id": "TaQ2Iwbr_Zct"
      },
      "source": [
        "La tabla contiene siete columnas. Todas almacenan el mismo tipo de datos: objeto.\n",
        "\n",
        "De acuerdo con la documentación:\n",
        "- `'userID'` — identificador del usuario\n",
        "- `'Track'` — título de la pista\n",
        "- `'artist'` — nombre del artista\n",
        "- `'genre'` — género\n",
        "- `'City'` — ciudad del usuario\n",
        "- `'time'` — el periodo de tiempo exacto en que se reprodujo la pista\n",
        "- `'Day'` — día de la semana\n",
        "\n",
        "Podemos ver tres problemas con el estilo en los nombres de las columnas:\n",
        "1. Algunos nombres están en mayúsculas, otros en minúsculas.\n",
        "2. Hay algunos espacios en algunos nombres.\n",
        "3. `Detecta el tercer problema tú mismo y descríbelo aquí`.\n",
        "\n",
        "El número de valores de las columnas es diferente. Esto significa que los datos contienen valores ausentes.\n"
      ]
    },
    {
      "cell_type": "markdown",
      "metadata": {
        "id": "MCB6-dXG_Zct"
      },
      "source": [
        "### Conclusiones <a id='data_review_conclusions'></a> \n",
        "\n",
        "Cada fila de la tabla almacena datos de la pista que fue reproducida. Algunas columnas describen la pista en sí: su título, el artista y el género. El resto transmite la información del usuario: la ciudad de la que viene, el tiempo que ha reproducido la pista. \n",
        "\n",
        "Está claro que los datos son suficientes para probar la hipótesis. Sin embargo, hay valores ausentes.\n",
        "\n",
        "Para continuar, necesitamos preprocesar los datos."
      ]
    },
    {
      "cell_type": "markdown",
      "metadata": {
        "id": "3eL__vcwViOi"
      },
      "source": [
        "[Volver a Contenidos](#back)"
      ]
    },
    {
      "cell_type": "markdown",
      "metadata": {
        "id": "SjYF6Ub9_Zct"
      },
      "source": [
        "## Etapa 2. Preprocesamiento de datos <a id='data_preprocessing'></a>\n",
        "Corrige el formato en los encabezados de las columnas y ocúpate de los valores ausentes. Después, comprueba si hay duplicados en los datos."
      ]
    },
    {
      "cell_type": "markdown",
      "metadata": {
        "id": "dIaKXr29_Zct"
      },
      "source": [
        "### Estilo del encabezado <a id='header_style'></a>\n",
        "Imprime el encabezado de la columna:"
      ]
    },
    {
      "cell_type": "code",
      "execution_count": null,
      "metadata": {
        "id": "oKOTdF_Q_Zct",
        "outputId": "4ceedc31-b939-4d1f-8d03-ae55ff1c61df"
      },
      "outputs": [
        {
          "data": {
            "text/plain": [
              "Index(['  userID', 'Track', 'artist', 'genre', '  City  ', 'time', 'Day'], dtype='object')"
            ]
          },
          "execution_count": 41,
          "metadata": {},
          "output_type": "execute_result"
        }
      ],
      "source": [
        "# la lista de los nombres de las columnas en la tabla df\n",
        "df.columns"
      ]
    },
    {
      "cell_type": "markdown",
      "metadata": {
        "id": "zj5534cv_Zct"
      },
      "source": [
        "Cambia los nombres de las columnas de acuerdo con las reglas del buen estilo:\n",
        "* Si el nombre tiene varias palabras, utiliza snake_case\n",
        "* Todos los caracteres deben ser minúsculas\n",
        "* Elimina los espacios"
      ]
    },
    {
      "cell_type": "code",
      "execution_count": null,
      "metadata": {
        "id": "ISlFqs5y_Zct"
      },
      "outputs": [],
      "source": [
        "# renombra las columnas\n",
        "#en este podria buscar renombrar solamente las columnas que tiene error(no respecta el snack), pero puede haber errores que no esta tan vizible, por ejemplo, los espacios.\n",
        "\n",
        "df = df.rename(columns={\n",
        "'  userID' : 'user_id','Track':'track_name','artist' : 'artist_name', 'genre' : 'genre_name','  City  ' : 'city_name','time' : 'time', 'Day' : 'day'\n",
        "})"
      ]
    },
    {
      "cell_type": "markdown",
      "metadata": {
        "id": "1dqbh00J_Zct"
      },
      "source": [
        "Comprueba el resultado. Imprime los nombres de las columnas una vez más:"
      ]
    },
    {
      "cell_type": "code",
      "execution_count": null,
      "metadata": {
        "id": "d4NOAmTW_Zct",
        "outputId": "f4a813f1-274a-49d2-a909-2ba16612cc4d"
      },
      "outputs": [
        {
          "data": {
            "text/plain": [
              "Index(['user_id', 'track_name', 'artist_name', 'genre_name', 'city_name',\n",
              "       'time', 'day'],\n",
              "      dtype='object')"
            ]
          },
          "execution_count": 43,
          "metadata": {},
          "output_type": "execute_result"
        }
      ],
      "source": [
        "# comprobando el resultado: la lista de los nombres de las columnas\n",
        "df.columns"
      ]
    },
    {
      "cell_type": "markdown",
      "metadata": {
        "id": "xYJk6ksJVpOl"
      },
      "source": [
        "[Volver a Contenidos](#back)"
      ]
    },
    {
      "cell_type": "markdown",
      "metadata": {
        "id": "5ISfbcfY_Zct"
      },
      "source": [
        "### Valores ausentes <a id='missing_values'></a>\n",
        "Primero encuentra el número de valores ausentes en la tabla. Para ello, utiliza dos métodos pandas:"
      ]
    },
    {
      "cell_type": "code",
      "execution_count": null,
      "metadata": {
        "id": "RskX29qr_Zct",
        "outputId": "ebc0bb9c-1067-4806-f66c-9110b80937c5"
      },
      "outputs": [
        {
          "name": "stdout",
          "output_type": "stream",
          "text": [
            "user_id           0\n",
            "track_name     1343\n",
            "artist_name    7567\n",
            "genre_name     1198\n",
            "city_name         0\n",
            "time              0\n",
            "day               0\n",
            "dtype: int64\n"
          ]
        }
      ],
      "source": [
        "# calculando valores ausentes\n",
        "\n",
        "print(df.isna().sum())"
      ]
    },
    {
      "cell_type": "markdown",
      "metadata": {
        "id": "qubhgnlO_Zct"
      },
      "source": [
        "No todos los valores ausentes afectan a la investigación. Por ejemplo, los valores ausentes en la pista y artista no son cruciales. Simplemente puedes reemplazarlos por marcadores claros.\n",
        "\n",
        "Pero los valores ausentes en `'genre'` pueden afectar la comparación entre las preferencias musicales de Springfield y Shelbyville. En la vida real, sería útil saber las razones por las cuales hay datos ausentes e intentar recuperarlos. Pero no tenemos esa oportunidad en este proyecto. Así que tendrás que:\n",
        "* Rellenar esos valores ausentes con marcadores\n",
        "* Evaluar cuánto podrían afectar los valores ausentes a tus cómputos."
      ]
    },
    {
      "cell_type": "markdown",
      "metadata": {
        "id": "fSv2laPA_Zct"
      },
      "source": [
        "Reemplazar los valores ausentes en `'track'`, `'artist'`, y `'genre'` con la string `'unknown'`. Para ello, crea la lista `columns_to_replace`, recórrela con un bucle `for` y reemplaza los valores ausentes en cada una de las columnas:"
      ]
    },
    {
      "cell_type": "code",
      "execution_count": null,
      "metadata": {
        "id": "KplB5qWs_Zct"
      },
      "outputs": [],
      "source": [
        "# recorriendo los nombres de las columnas y reemplazando los valores ausentes con 'unknown'\n",
        "\n",
        "columns_to_replace = ['track_name', 'artist_name', 'genre_name']\n",
        "for replace in columns_to_replace:\n",
        "    df[replace].fillna('unknown', inplace = True)"
      ]
    },
    {
      "cell_type": "markdown",
      "metadata": {
        "id": "Ilsm-MZo_Zct"
      },
      "source": [
        "Asegúrate de que la tabla no contiene más valores ausentes. Cuenta de nuevo los valores ausentes."
      ]
    },
    {
      "cell_type": "code",
      "execution_count": null,
      "metadata": {
        "id": "Tq4nYRX4_Zct",
        "outputId": "78a4f274-b3db-4fc2-b7d3-0973f1b57cca"
      },
      "outputs": [
        {
          "name": "stdout",
          "output_type": "stream",
          "text": [
            "user_id        0\n",
            "track_name     0\n",
            "artist_name    0\n",
            "genre_name     0\n",
            "city_name      0\n",
            "time           0\n",
            "day            0\n",
            "dtype: int64\n"
          ]
        }
      ],
      "source": [
        "# contando valores ausentes\n",
        "print(df.isna().sum())"
      ]
    },
    {
      "cell_type": "markdown",
      "metadata": {
        "id": "74ZIBmq9VrsK"
      },
      "source": [
        "[Volver a Contenidos](#back)"
      ]
    },
    {
      "cell_type": "markdown",
      "metadata": {
        "id": "BWKRtBJ3_Zct"
      },
      "source": [
        "### Duplicados <a id='duplicates'></a>\n",
        "Encuentra el número de duplicados obvios en la tabla utilizando un comando:"
      ]
    },
    {
      "cell_type": "code",
      "execution_count": null,
      "metadata": {
        "id": "36eES_S0_Zct",
        "outputId": "be59031f-3919-4b5f-a6f9-7e81dca7e0d0"
      },
      "outputs": [
        {
          "name": "stdout",
          "output_type": "stream",
          "text": [
            "3826\n",
            "(65079, 7)\n"
          ]
        }
      ],
      "source": [
        "# contando duplicado obvios\n",
        "#es importante analizar el tamaño de la tabla antes de eliminar los duplicados\n",
        "\n",
        "print(df.duplicated().sum())\n",
        "\n",
        "#es importante analizar el tamaño de la tabla antes de eliminar los duplicados\n",
        "\n",
        "shape_table = df.shape\n",
        "print(shape_table)"
      ]
    },
    {
      "cell_type": "markdown",
      "metadata": {
        "id": "Ot25h6XR_Zct"
      },
      "source": [
        "Llama al método `pandas` para deshacerte de los duplicados obvios:"
      ]
    },
    {
      "cell_type": "code",
      "execution_count": null,
      "metadata": {
        "id": "exFHq6tt_Zct",
        "outputId": "a3373476-4e70-4e4d-e011-65c287cc9697"
      },
      "outputs": [
        {
          "name": "stdout",
          "output_type": "stream",
          "text": [
            "(61253, 7)\n"
          ]
        }
      ],
      "source": [
        "# eliminando duplicados obvios\n",
        "# ademas de eliminar los duplicados tambien es necesario ordenas los indices\n",
        "df = df.drop_duplicates().reset_index(drop=True)\n",
        "#chequear el tamaño de la tabla ahora\n",
        "shape_table_update = df.shape\n",
        "print(shape_table_update)"
      ]
    },
    {
      "cell_type": "markdown",
      "metadata": {
        "id": "Im2YwBEG_Zct"
      },
      "source": [
        "Cuenta los duplicados obvios una vez más para asegurarte de que todos han sido eliminados:"
      ]
    },
    {
      "cell_type": "code",
      "execution_count": null,
      "metadata": {
        "id": "-8PuNWQ0_Zct",
        "outputId": "d95a584c-7117-4178-d415-350c2201d904"
      },
      "outputs": [
        {
          "name": "stdout",
          "output_type": "stream",
          "text": [
            "0\n"
          ]
        }
      ],
      "source": [
        "# comprobando duplicados\n",
        "print(df.duplicated().sum())"
      ]
    },
    {
      "cell_type": "markdown",
      "metadata": {
        "id": "QlFBsxAr_Zct"
      },
      "source": [
        "Ahora deshazte de los duplicados implícitos en la columna genre. Por ejemplo, el nombre de un género se puede escribir de varias formas. Dichos errores también pueden afectar a resultado."
      ]
    },
    {
      "cell_type": "markdown",
      "metadata": {
        "id": "eSjWwsOh_Zct"
      },
      "source": [
        "Imprime una lista de nombres únicos de géneros, ordenados en orden alfabético. Cómo se hace:\n",
        "* Recupera la deseada columna DataFrame \n",
        "* Aplícale un método de orden\n",
        "* Para la columna ordenada, llama al método que te devolverá todos los valores de columna únicos"
      ]
    },
    {
      "cell_type": "code",
      "execution_count": null,
      "metadata": {
        "id": "JIUcqzZN_Zct",
        "outputId": "0a6e16df-6f04-4aa0-9c5b-dacce4eb2632"
      },
      "outputs": [
        {
          "name": "stdout",
          "output_type": "stream",
          "text": [
            "269\n",
            "['acid', 'acoustic', 'action', 'adult', 'africa', 'afrikaans', 'alternative', 'ambient', 'americana', 'animated', 'anime', 'arabesk', 'arabic', 'arena', 'argentinetango', 'art', 'audiobook', 'avantgarde', 'axé', 'baile', 'balkan', 'beats', 'bigroom', 'black', 'bluegrass', 'blues', 'bollywood', 'bossa', 'brazilian', 'breakbeat', 'breaks', 'broadway', 'cantautori', 'cantopop', 'canzone', 'caribbean', 'caucasian', 'celtic', 'chamber', 'children', 'chill', 'chinese', 'choral', 'christian', 'christmas', 'classical', 'classicmetal', 'club', 'colombian', 'comedy', 'conjazz', 'contemporary', 'country', 'cuban', 'dance', 'dancehall', 'dancepop', 'dark', 'death', 'deep', 'deutschrock', 'deutschspr', 'dirty', 'disco', 'dnb', 'documentary', 'downbeat', 'downtempo', 'drum', 'dub', 'dubstep', 'eastern', 'easy', 'electronic', 'electropop', 'emo', 'entehno', 'epicmetal', 'estrada', 'ethnic', 'eurofolk', 'european', 'experimental', 'extrememetal', 'fado', 'film', 'fitness', 'flamenco', 'folk', 'folklore', 'folkmetal', 'folkrock', 'folktronica', 'forró', 'frankreich', 'französisch', 'french', 'funk', 'future', 'gangsta', 'garage', 'german', 'ghazal', 'gitarre', 'glitch', 'gospel', 'gothic', 'grime', 'grunge', 'gypsy', 'handsup', \"hard'n'heavy\", 'hardcore', 'hardstyle', 'hardtechno', 'hip', 'hip-hop', 'hiphop', 'historisch', 'holiday', 'hop', 'horror', 'house', 'idm', 'independent', 'indian', 'indie', 'indipop', 'industrial', 'inspirational', 'instrumental', 'international', 'irish', 'jam', 'japanese', 'jazz', 'jewish', 'jpop', 'jungle', 'k-pop', 'karadeniz', 'karaoke', 'kayokyoku', 'korean', 'laiko', 'latin', 'latino', 'leftfield', 'local', 'lounge', 'loungeelectronic', 'lovers', 'malaysian', 'mandopop', 'marschmusik', 'meditative', 'mediterranean', 'melodic', 'metal', 'metalcore', 'mexican', 'middle', 'minimal', 'miscellaneous', 'modern', 'mood', 'mpb', 'muslim', 'native', 'neoklassik', 'neue', 'new', 'newage', 'newwave', 'nu', 'nujazz', 'numetal', 'oceania', 'old', 'opera', 'orchestral', 'other', 'piano', 'pop', 'popelectronic', 'popeurodance', 'post', 'posthardcore', 'postrock', 'power', 'progmetal', 'progressive', 'psychedelic', 'punjabi', 'punk', 'quebecois', 'ragga', 'ram', 'rancheras', 'rap', 'rave', 'reggae', 'reggaeton', 'regional', 'relax', 'religious', 'retro', 'rhythm', 'rnb', 'rnr', 'rock', 'rockabilly', 'romance', 'roots', 'ruspop', 'rusrap', 'rusrock', 'salsa', 'samba', 'schlager', 'self', 'sertanejo', 'shoegazing', 'showtunes', 'singer', 'ska', 'slow', 'smooth', 'soul', 'soulful', 'sound', 'soundtrack', 'southern', 'specialty', 'speech', 'spiritual', 'sport', 'stonerrock', 'surf', 'swing', 'synthpop', 'sängerportrait', 'tango', 'tanzorchester', 'taraftar', 'tech', 'techno', 'thrash', 'top', 'traditional', 'tradjazz', 'trance', 'tribal', 'trip', 'triphop', 'tropical', 'türk', 'türkçe', 'unknown', 'urban', 'uzbek', 'variété', 'vi', 'videogame', 'vocal', 'western', 'world', 'worldbeat', 'ïîï']\n"
          ]
        }
      ],
      "source": [
        "# suma total de valores unicos\n",
        "print(df['genre_name'].nunique())\n",
        "\n",
        "# inspeccionando los nombres de géneros únicos y tambien por forma acendiente\n",
        "print(sorted(df['genre_name'].unique()))\n"
      ]
    },
    {
      "cell_type": "markdown",
      "metadata": {
        "id": "qej-Qmuo_Zct"
      },
      "source": [
        "Busca en la lista para encontrar duplicados implícitos del género `hiphop`. Estos pueden ser nombres escritos incorrectamente o nombres alternativos para el mismo género.\n",
        "\n",
        "Verás los siguientes duplicados implícitos:\n",
        "* `hip`\n",
        "* `hop`\n",
        "* `hip-hop`\n",
        "\n",
        "Para deshacerte de ellos, declara la función `replace_wrong_genres()` con dos parámetros: \n",
        "* `wrong_genres=` — la lista de duplicados\n",
        "* `correct_genre=` — la string con el valor correcto\n",
        "\n",
        "La función debería corregir los nombres en la columna `'genre'` de la tabla `df`, es decir, remplaza cada valor de la lista `wrong_genres` con el valor en `correct_genre`."
      ]
    },
    {
      "cell_type": "markdown",
      "metadata": {
        "id": "aDoBJxbA_Zct"
      },
      "source": [
        "Llama a `replace_wrong_genres()` y pásale argumentos para que retire los duplicados implícitos (`hip`, `hop` y `hip-hop`) y los reemplace por `hiphop`:"
      ]
    },
    {
      "cell_type": "code",
      "execution_count": null,
      "metadata": {
        "id": "ErNDkmns_Zct"
      },
      "outputs": [],
      "source": [
        "# función para reemplazar duplicados implícitos\n",
        "\n",
        "def replace_wrong_genres(wrong_genres,correct_genre):\n",
        "        for wrong_genres in wrong_genres: # un bucle sobre nombres mal escritos\n",
        "            df['genre_name'] = df['genre_name'].replace(wrong_genres, correct_genre) # llamamos a replace() por cada nombre incorrecto\n",
        "\n",
        "duplicates = ['hip', 'hop' , 'hip-hop'] # una lista de nombres mal escritos\n",
        "name = 'hiphop' # el nombre correcto\n",
        "\n",
        "replace_wrong_genres(duplicates, name)\n"
      ]
    },
    {
      "cell_type": "code",
      "execution_count": null,
      "metadata": {
        "id": "YN5i2hpmSo09",
        "outputId": "c36679e7-746c-4d50-8f64-a0a6d16dda77"
      },
      "outputs": [
        {
          "name": "stdout",
          "output_type": "stream",
          "text": [
            "['acid', 'acoustic', 'action', 'adult', 'africa', 'afrikaans', 'alternative', 'ambient', 'americana', 'animated', 'anime', 'arabesk', 'arabic', 'arena', 'argentinetango', 'art', 'audiobook', 'avantgarde', 'axé', 'baile', 'balkan', 'beats', 'bigroom', 'black', 'bluegrass', 'blues', 'bollywood', 'bossa', 'brazilian', 'breakbeat', 'breaks', 'broadway', 'cantautori', 'cantopop', 'canzone', 'caribbean', 'caucasian', 'celtic', 'chamber', 'children', 'chill', 'chinese', 'choral', 'christian', 'christmas', 'classical', 'classicmetal', 'club', 'colombian', 'comedy', 'conjazz', 'contemporary', 'country', 'cuban', 'dance', 'dancehall', 'dancepop', 'dark', 'death', 'deep', 'deutschrock', 'deutschspr', 'dirty', 'disco', 'dnb', 'documentary', 'downbeat', 'downtempo', 'drum', 'dub', 'dubstep', 'eastern', 'easy', 'electronic', 'electropop', 'emo', 'entehno', 'epicmetal', 'estrada', 'ethnic', 'eurofolk', 'european', 'experimental', 'extrememetal', 'fado', 'film', 'fitness', 'flamenco', 'folk', 'folklore', 'folkmetal', 'folkrock', 'folktronica', 'forró', 'frankreich', 'französisch', 'french', 'funk', 'future', 'gangsta', 'garage', 'german', 'ghazal', 'gitarre', 'glitch', 'gospel', 'gothic', 'grime', 'grunge', 'gypsy', 'handsup', \"hard'n'heavy\", 'hardcore', 'hardstyle', 'hardtechno', 'hiphop', 'historisch', 'holiday', 'horror', 'house', 'idm', 'independent', 'indian', 'indie', 'indipop', 'industrial', 'inspirational', 'instrumental', 'international', 'irish', 'jam', 'japanese', 'jazz', 'jewish', 'jpop', 'jungle', 'k-pop', 'karadeniz', 'karaoke', 'kayokyoku', 'korean', 'laiko', 'latin', 'latino', 'leftfield', 'local', 'lounge', 'loungeelectronic', 'lovers', 'malaysian', 'mandopop', 'marschmusik', 'meditative', 'mediterranean', 'melodic', 'metal', 'metalcore', 'mexican', 'middle', 'minimal', 'miscellaneous', 'modern', 'mood', 'mpb', 'muslim', 'native', 'neoklassik', 'neue', 'new', 'newage', 'newwave', 'nu', 'nujazz', 'numetal', 'oceania', 'old', 'opera', 'orchestral', 'other', 'piano', 'pop', 'popelectronic', 'popeurodance', 'post', 'posthardcore', 'postrock', 'power', 'progmetal', 'progressive', 'psychedelic', 'punjabi', 'punk', 'quebecois', 'ragga', 'ram', 'rancheras', 'rap', 'rave', 'reggae', 'reggaeton', 'regional', 'relax', 'religious', 'retro', 'rhythm', 'rnb', 'rnr', 'rock', 'rockabilly', 'romance', 'roots', 'ruspop', 'rusrap', 'rusrock', 'salsa', 'samba', 'schlager', 'self', 'sertanejo', 'shoegazing', 'showtunes', 'singer', 'ska', 'slow', 'smooth', 'soul', 'soulful', 'sound', 'soundtrack', 'southern', 'specialty', 'speech', 'spiritual', 'sport', 'stonerrock', 'surf', 'swing', 'synthpop', 'sängerportrait', 'tango', 'tanzorchester', 'taraftar', 'tech', 'techno', 'thrash', 'top', 'traditional', 'tradjazz', 'trance', 'tribal', 'trip', 'triphop', 'tropical', 'türk', 'türkçe', 'unknown', 'urban', 'uzbek', 'variété', 'vi', 'videogame', 'vocal', 'western', 'world', 'worldbeat', 'ïîï']\n"
          ]
        }
      ],
      "source": [
        "# eliminando duplicados implícitos\n",
        "print(sorted(df['genre_name'].unique()))\n"
      ]
    },
    {
      "cell_type": "markdown",
      "metadata": {
        "id": "zQKF16_RG15m"
      },
      "source": [
        "Asegúrate que los nombres duplicados han sido eliminados. Imprime la lista de valores únicos de la columna `'genre'`:"
      ]
    },
    {
      "cell_type": "code",
      "execution_count": null,
      "metadata": {
        "id": "wvixALnFG15m",
        "outputId": "c070b9ec-e950-424c-80cb-d5330e0d486d"
      },
      "outputs": [
        {
          "name": "stdout",
          "output_type": "stream",
          "text": [
            "0\n"
          ]
        }
      ],
      "source": [
        "# revisando en busca de duplicados implícitos\n",
        "print(df.duplicated().sum())"
      ]
    },
    {
      "cell_type": "markdown",
      "metadata": {
        "id": "ALgNbvF3VtPA"
      },
      "source": [
        "[Volver a Contenidos](#back)"
      ]
    },
    {
      "cell_type": "markdown",
      "metadata": {
        "id": "jz6a9-7HQUDd"
      },
      "source": [
        "### Conclusiones <a id='data_preprocessing_conclusions'></a>\n",
        "Detectamos tres problemas con los datos:\n",
        "\n",
        "- Estilos de encabezados incorrectos\n",
        "- Valores ausentes\n",
        "- Duplicados obvios e implícitos\n",
        "\n",
        "Los encabezados han sido eliminados para conseguir que el procesamiento de la tabla sea más sencillo.\n",
        "\n",
        "Todos los valores ausentes han sido reemplazados por `'unknown'`. Pero todavía tenemos que ver si los valores ausentes en `'genre'` afectan a nuestros cálculos.\n",
        "\n",
        "La ausencia de duplicados hará que los resultados sean mas precisos y fáciles de entender.\n",
        "\n",
        "Ahora ya podemos continuar probando las hipótesis. "
      ]
    },
    {
      "cell_type": "markdown",
      "metadata": {
        "id": "eK1es74rVujj"
      },
      "source": [
        "[Volver a Contenidos](#back)"
      ]
    },
    {
      "cell_type": "markdown",
      "metadata": {
        "id": "WttZHXH0SqKk"
      },
      "source": [
        "## Etapa 3. Prueba de hipótesis <a id='hypotheses'></a>"
      ]
    },
    {
      "cell_type": "markdown",
      "metadata": {
        "id": "Im936VVi_Zcu"
      },
      "source": [
        "### Hipótesis 1: comparar el comportamiento del usuario en las dos ciudades <a id='activity'></a>"
      ]
    },
    {
      "cell_type": "markdown",
      "metadata": {
        "id": "nwt_MuaL_Zcu"
      },
      "source": [
        "De acuerdo con la primera hipótesis, los usuarios de Springfield y Shelbyville escuchan música de forma distinta. Comprueba esto utilizando los datos de tres días de la semana: lunes, miércoles y viernes.\n",
        "\n",
        "* Divide a los usuarios en grupos por ciudad.\n",
        "* Compara cuántas pistas reprodujo cada grupo el lunes, el miércoles y el viernes.\n"
      ]
    },
    {
      "cell_type": "markdown",
      "metadata": {
        "id": "8Dw_YMmT_Zcu"
      },
      "source": [
        "Por el bien del ejercicio, realiza cada cálculo de forma separada. \n",
        "\n",
        "Evalúa la actividad del usuario en cada ciudad. Agrupa los datos por ciudad y encuentra el número de canciones reproducidas en cada grupo.\n",
        "\n"
      ]
    },
    {
      "cell_type": "code",
      "execution_count": null,
      "metadata": {
        "id": "0_Qs96oh_Zcu",
        "outputId": "f652e0c1-3203-49f8-a809-ccfdeef9b643"
      },
      "outputs": [
        {
          "name": "stdout",
          "output_type": "stream",
          "text": [
            "city_name\n",
            "Shelbyville    18512\n",
            "Springfield    42741\n",
            "Name: user_id, dtype: int64\n"
          ]
        }
      ],
      "source": [
        "# contando las pistas reproducidas en cada ciudad\n",
        "print(df.groupby('city_name')['user_id'].count())"
      ]
    },
    {
      "cell_type": "markdown",
      "metadata": {
        "id": "dzli3w8o_Zcu"
      },
      "source": [
        "Springfield ha reproducido más pistas que Shelbyville. Pero eso no implica que los ciudadanos de Springfield escuchen música más a menudo. Esta ciudad es simplemente más grande y hay más usuarios.\n",
        "\n",
        "Ahora agrupa los datos por día de la semana y encuentra el número de pistas reproducidas el lunes, miércoles y viernes.\n"
      ]
    },
    {
      "cell_type": "code",
      "execution_count": null,
      "metadata": {
        "id": "uZMKjiJz_Zcu",
        "outputId": "412c9680-47fa-4159-f1ac-deea2c38429f"
      },
      "outputs": [
        {
          "name": "stdout",
          "output_type": "stream",
          "text": [
            "day\n",
            "Friday       21840\n",
            "Monday       21354\n",
            "Wednesday    18059\n",
            "Name: city_name, dtype: int64\n"
          ]
        }
      ],
      "source": [
        "# calculando las pistas reproducidas en cada uno de los tres días\n",
        "print(df.groupby('day')['city_name'].count())"
      ]
    },
    {
      "cell_type": "markdown",
      "metadata": {
        "id": "cC2tNrlL_Zcu"
      },
      "source": [
        "El miércoles fue el día más silencioso de todos. Pero si consideramos las dos ciudades por separado podríamos llegar a una conclusión diferente."
      ]
    },
    {
      "cell_type": "markdown",
      "metadata": {
        "id": "POzs8bGa_Zcu"
      },
      "source": [
        "Ya has visto cómo funciona el agrupar por ciudad o día. Ahora escribe la función que agrupará ambos.\n",
        "\n",
        "Crea la función `number_tracks()` para calcular el número de canciones reproducidas en un determinado día y ciudad. Requerirá dos parámetros:\n",
        "* día de la semana\n",
        "* nombre de la ciudad\n",
        "\n",
        "En la función, utiliza una variable para almacenar las filas de la tabla original, donde:\n",
        "  * el valor de la columna `'day'` es igual al parámetro de día\n",
        "  * el valor de la columna `'city'` es igual al parámetro de ciudad\n",
        "\n",
        "Aplica un filtrado consecutivo con indexación lógica.\n",
        "\n",
        "Después, calcula los valores de la columna `'user_id'` en la tabla resultante. Almacena el resultado en la nueva variable. Recupera esta variable de la función."
      ]
    },
    {
      "cell_type": "code",
      "execution_count": null,
      "metadata": {
        "id": "Nz3GdQB1_Zcu",
        "outputId": "443be93d-9af3-4b22-8122-ce59c27856a5"
      },
      "outputs": [
        {
          "name": "stdout",
          "output_type": "stream",
          "text": [
            "15740\n"
          ]
        }
      ],
      "source": [
        "def number_tracks(day,city):\n",
        "    track_list = df[(df['day']== day) & (df['city_name'] == city)]\n",
        "    track_list_count = track_list['user_id'].count()\n",
        "    return track_list_count\n",
        "print(number_tracks('Monday','Springfield'))        \n",
        "\n",
        "\n",
        "# <creando la función number_tracks()>\n",
        "# declararemos la función con dos parámetros: day=, city=.\n",
        "# deja que la variable track_list almacene las filas df en las que\n",
        "# el valor en la columna 'day' es igual al parámetro day= y, al mismo tiempo, \n",
        "# el valor de la columna 'city' es igual al parámetro city= (aplica el filtrado consecutivo \n",
        "# con indexación lógica).\n",
        "# deja que la variable track_list_count almacene el número de valores de la columna 'user_id' en track_list\n",
        "# (encontrado con el método count()).\n",
        "# permite que la función devuelva un número: el valor de track_list_count.\n",
        "\n",
        "# la función cuenta las pistas reproducidas en un cierto día y ciudad.\n",
        "# primero recupera las filas del día deseado de la tabla,\n",
        "# después filtra las filas de la ciudad deseada del resultado,\n",
        "# entonces, encuentra el número de valores de 'user_id' en la tabla filtrada,\n",
        "# y devuelve ese número.\n",
        "# para ver lo que devuelve, envuelve la llamada de la función en print()."
      ]
    },
    {
      "cell_type": "markdown",
      "metadata": {
        "id": "ytf7xFrFJQ2r"
      },
      "source": [
        "Llama a `number_tracks()` seis veces, cambiando los valores de los parámetros, para que recuperes los datos de ambas ciudades para cada uno de los tres días."
      ]
    },
    {
      "cell_type": "code",
      "execution_count": null,
      "metadata": {
        "id": "rJcRATNQ_Zcu",
        "outputId": "b6d63882-55e7-4079-8ce0-ef00b3f06aad"
      },
      "outputs": [
        {
          "name": "stdout",
          "output_type": "stream",
          "text": [
            "15740\n"
          ]
        }
      ],
      "source": [
        "# el número de canciones reproducidas en Springfield el lunes\n",
        "print(number_tracks('Monday','Springfield'))"
      ]
    },
    {
      "cell_type": "code",
      "execution_count": null,
      "metadata": {
        "id": "hq_ncZ5T_Zcu",
        "outputId": "ee01b40d-6b5c-459f-a554-f11158a049d0"
      },
      "outputs": [
        {
          "name": "stdout",
          "output_type": "stream",
          "text": [
            "5614\n"
          ]
        }
      ],
      "source": [
        "# el número de canciones reproducidas en Shelbyville el lunes\n",
        "print(number_tracks('Monday','Shelbyville'))"
      ]
    },
    {
      "cell_type": "code",
      "execution_count": null,
      "metadata": {
        "id": "_NTy2VPU_Zcu",
        "outputId": "47cbc930-f6e0-4172-a72d-af033e780814"
      },
      "outputs": [
        {
          "name": "stdout",
          "output_type": "stream",
          "text": [
            "11056\n"
          ]
        }
      ],
      "source": [
        "# el número de canciones reproducidas en Springfield el miércoles\n",
        "print(number_tracks('Wednesday','Springfield'))"
      ]
    },
    {
      "cell_type": "code",
      "execution_count": null,
      "metadata": {
        "id": "j2y3TAwo_Zcu",
        "outputId": "ad3523de-b562-4458-9f9b-3df889fda4f1"
      },
      "outputs": [
        {
          "name": "stdout",
          "output_type": "stream",
          "text": [
            "7003\n"
          ]
        }
      ],
      "source": [
        "# el número de canciones reproducidas en Shelbyville el miércoles\n",
        "print(number_tracks('Wednesday','Shelbyville'))"
      ]
    },
    {
      "cell_type": "code",
      "execution_count": null,
      "metadata": {
        "id": "vYDw5u_K_Zcu",
        "outputId": "49ceded1-5b7b-4c92-df49-51344d5ea1c6"
      },
      "outputs": [
        {
          "name": "stdout",
          "output_type": "stream",
          "text": [
            "15945\n"
          ]
        }
      ],
      "source": [
        "# el número de canciones reproducidas en Springfield el viernes\n",
        "print(number_tracks('Friday','Springfield'))"
      ]
    },
    {
      "cell_type": "code",
      "execution_count": null,
      "metadata": {
        "id": "8_yzFtW3_Zcu",
        "outputId": "e822573f-cf2c-404d-c98a-9ee9b89a1169"
      },
      "outputs": [
        {
          "name": "stdout",
          "output_type": "stream",
          "text": [
            "5895\n"
          ]
        }
      ],
      "source": [
        "# el número de canciones reproducidas en Shelbyville el viernes\n",
        "print(number_tracks('Friday','Shelbyville'))"
      ]
    },
    {
      "cell_type": "markdown",
      "metadata": {
        "id": "7QXffbO-_Zcu"
      },
      "source": [
        "Utiliza `pd.DataFrame` para crear una tabla, donde\n",
        "* Los nombres de las columnas son: `['city', 'monday', 'wednesday', 'friday']`\n",
        "* Los datos son los resultados que conseguiste de `number_tracks()`"
      ]
    },
    {
      "cell_type": "code",
      "execution_count": null,
      "metadata": {
        "id": "xX9yqnJKAdsS",
        "outputId": "2a592618-e214-4699-a88a-7f1064d51560"
      },
      "outputs": [
        {
          "name": "stdout",
          "output_type": "stream",
          "text": [
            "          city  monday  wednesday  friday\n",
            "0  Shelbyville    5614       7003    5895\n",
            "1  Springfield   15740      11056   15945\n"
          ]
        }
      ],
      "source": [
        "# tabla con los resultados\n",
        "tabla_days_city = pd.DataFrame([['Shelbyville',5614,7003,5895], ['Springfield',15740,11056,15945]], columns=['city', 'monday', 'wednesday', 'friday'])\n",
        "\n",
        "print(tabla_days_city)"
      ]
    },
    {
      "cell_type": "markdown",
      "metadata": {
        "id": "-EgPIHYu_Zcu"
      },
      "source": [
        "**Conclusiones**\n",
        "\n",
        "Los datos revelan las diferencias en el comportamiento de los usuarios:\n",
        "\n",
        "- En Springfield, el número de canciones reproducidas alcanzan el punto máximo los lunes y viernes mientras que los miércoles hay un descenso de la actividad.\n",
        "- En Shelbyville, al contario, los usuarios escuchan más música los miércoles. La actividad de los usuarios los lunes y viernes es menor.\n",
        "\n",
        "Así que la primera hipótesis parece ser correcta."
      ]
    },
    {
      "cell_type": "markdown",
      "metadata": {
        "id": "p7nFQajCVw5B"
      },
      "source": [
        "[Volver a Contenidos](#back)"
      ]
    },
    {
      "cell_type": "markdown",
      "metadata": {
        "id": "atZAxtq4_Zcu"
      },
      "source": [
        "### Hipótesis 2: música al principio y al final de la semana <a id='week'></a>"
      ]
    },
    {
      "cell_type": "markdown",
      "metadata": {
        "id": "eXrQqXFH_Zcu"
      },
      "source": [
        "De acuerdo con la segunda hipótesis, los lunes por la mañana y los viernes por la noche los ciudadanos de Springfield escuchan géneros que difieren de aquellos que los usuarios de Shelbyville disfrutan."
      ]
    },
    {
      "cell_type": "markdown",
      "metadata": {
        "id": "S8UcW6Hw_Zcu"
      },
      "source": [
        "Obtén tablas (asegúrate de que el nombre de tu tabla combinada encaja con el DataFrame dado en los dos bloques de código de abajo):\n",
        "* Para Springfield — `spr_general`\n",
        "* Para Shelbyville — `shel_general`"
      ]
    },
    {
      "cell_type": "code",
      "execution_count": null,
      "metadata": {
        "id": "qeaFfM_P_Zcu",
        "outputId": "d9f25598-7035-44d5-b6a4-92f5ae182181"
      },
      "outputs": [
        {
          "data": {
            "text/html": [
              "<div>\n",
              "<style scoped>\n",
              "    .dataframe tbody tr th:only-of-type {\n",
              "        vertical-align: middle;\n",
              "    }\n",
              "\n",
              "    .dataframe tbody tr th {\n",
              "        vertical-align: top;\n",
              "    }\n",
              "\n",
              "    .dataframe thead th {\n",
              "        text-align: right;\n",
              "    }\n",
              "</style>\n",
              "<table border=\"1\" class=\"dataframe\">\n",
              "  <thead>\n",
              "    <tr style=\"text-align: right;\">\n",
              "      <th></th>\n",
              "      <th>user_id</th>\n",
              "      <th>track_name</th>\n",
              "      <th>artist_name</th>\n",
              "      <th>genre_name</th>\n",
              "      <th>city_name</th>\n",
              "      <th>time</th>\n",
              "      <th>day</th>\n",
              "    </tr>\n",
              "  </thead>\n",
              "  <tbody>\n",
              "    <tr>\n",
              "      <th>1</th>\n",
              "      <td>55204538</td>\n",
              "      <td>Delayed Because of Accident</td>\n",
              "      <td>Andreas Rönnberg</td>\n",
              "      <td>rock</td>\n",
              "      <td>Springfield</td>\n",
              "      <td>14:07:09</td>\n",
              "      <td>Friday</td>\n",
              "    </tr>\n",
              "    <tr>\n",
              "      <th>4</th>\n",
              "      <td>E2DC1FAE</td>\n",
              "      <td>Soul People</td>\n",
              "      <td>Space Echo</td>\n",
              "      <td>dance</td>\n",
              "      <td>Springfield</td>\n",
              "      <td>08:34:34</td>\n",
              "      <td>Monday</td>\n",
              "    </tr>\n",
              "    <tr>\n",
              "      <th>6</th>\n",
              "      <td>4CB90AA5</td>\n",
              "      <td>True</td>\n",
              "      <td>Roman Messer</td>\n",
              "      <td>dance</td>\n",
              "      <td>Springfield</td>\n",
              "      <td>13:00:07</td>\n",
              "      <td>Wednesday</td>\n",
              "    </tr>\n",
              "    <tr>\n",
              "      <th>7</th>\n",
              "      <td>F03E1C1F</td>\n",
              "      <td>Feeling This Way</td>\n",
              "      <td>Polina Griffith</td>\n",
              "      <td>dance</td>\n",
              "      <td>Springfield</td>\n",
              "      <td>20:47:49</td>\n",
              "      <td>Wednesday</td>\n",
              "    </tr>\n",
              "    <tr>\n",
              "      <th>8</th>\n",
              "      <td>8FA1D3BE</td>\n",
              "      <td>L’estate</td>\n",
              "      <td>Julia Dalia</td>\n",
              "      <td>ruspop</td>\n",
              "      <td>Springfield</td>\n",
              "      <td>09:17:40</td>\n",
              "      <td>Friday</td>\n",
              "    </tr>\n",
              "    <tr>\n",
              "      <th>...</th>\n",
              "      <td>...</td>\n",
              "      <td>...</td>\n",
              "      <td>...</td>\n",
              "      <td>...</td>\n",
              "      <td>...</td>\n",
              "      <td>...</td>\n",
              "      <td>...</td>\n",
              "    </tr>\n",
              "    <tr>\n",
              "      <th>61247</th>\n",
              "      <td>83A474E7</td>\n",
              "      <td>I Worship Only What You Bleed</td>\n",
              "      <td>The Black Dahlia Murder</td>\n",
              "      <td>extrememetal</td>\n",
              "      <td>Springfield</td>\n",
              "      <td>21:07:12</td>\n",
              "      <td>Monday</td>\n",
              "    </tr>\n",
              "    <tr>\n",
              "      <th>61248</th>\n",
              "      <td>729CBB09</td>\n",
              "      <td>My Name</td>\n",
              "      <td>McLean</td>\n",
              "      <td>rnb</td>\n",
              "      <td>Springfield</td>\n",
              "      <td>13:32:28</td>\n",
              "      <td>Wednesday</td>\n",
              "    </tr>\n",
              "    <tr>\n",
              "      <th>61250</th>\n",
              "      <td>C5E3A0D5</td>\n",
              "      <td>Jalopiina</td>\n",
              "      <td>unknown</td>\n",
              "      <td>industrial</td>\n",
              "      <td>Springfield</td>\n",
              "      <td>20:09:26</td>\n",
              "      <td>Friday</td>\n",
              "    </tr>\n",
              "    <tr>\n",
              "      <th>61251</th>\n",
              "      <td>321D0506</td>\n",
              "      <td>Freight Train</td>\n",
              "      <td>Chas McDevitt</td>\n",
              "      <td>rock</td>\n",
              "      <td>Springfield</td>\n",
              "      <td>21:43:59</td>\n",
              "      <td>Friday</td>\n",
              "    </tr>\n",
              "    <tr>\n",
              "      <th>61252</th>\n",
              "      <td>3A64EF84</td>\n",
              "      <td>Tell Me Sweet Little Lies</td>\n",
              "      <td>Monica Lopez</td>\n",
              "      <td>country</td>\n",
              "      <td>Springfield</td>\n",
              "      <td>21:59:46</td>\n",
              "      <td>Friday</td>\n",
              "    </tr>\n",
              "  </tbody>\n",
              "</table>\n",
              "<p>42741 rows × 7 columns</p>\n",
              "</div>"
            ],
            "text/plain": [
              "        user_id                     track_name              artist_name  \\\n",
              "1      55204538    Delayed Because of Accident         Andreas Rönnberg   \n",
              "4      E2DC1FAE                    Soul People               Space Echo   \n",
              "6      4CB90AA5                           True             Roman Messer   \n",
              "7      F03E1C1F               Feeling This Way          Polina Griffith   \n",
              "8      8FA1D3BE                       L’estate              Julia Dalia   \n",
              "...         ...                            ...                      ...   \n",
              "61247  83A474E7  I Worship Only What You Bleed  The Black Dahlia Murder   \n",
              "61248  729CBB09                        My Name                   McLean   \n",
              "61250  C5E3A0D5                      Jalopiina                  unknown   \n",
              "61251  321D0506                  Freight Train            Chas McDevitt   \n",
              "61252  3A64EF84      Tell Me Sweet Little Lies             Monica Lopez   \n",
              "\n",
              "         genre_name    city_name      time        day  \n",
              "1              rock  Springfield  14:07:09     Friday  \n",
              "4             dance  Springfield  08:34:34     Monday  \n",
              "6             dance  Springfield  13:00:07  Wednesday  \n",
              "7             dance  Springfield  20:47:49  Wednesday  \n",
              "8            ruspop  Springfield  09:17:40     Friday  \n",
              "...             ...          ...       ...        ...  \n",
              "61247  extrememetal  Springfield  21:07:12     Monday  \n",
              "61248           rnb  Springfield  13:32:28  Wednesday  \n",
              "61250    industrial  Springfield  20:09:26     Friday  \n",
              "61251          rock  Springfield  21:43:59     Friday  \n",
              "61252       country  Springfield  21:59:46     Friday  \n",
              "\n",
              "[42741 rows x 7 columns]"
            ]
          },
          "execution_count": 64,
          "metadata": {},
          "output_type": "execute_result"
        }
      ],
      "source": [
        "\n",
        "spr_general = pd.DataFrame(df[df['city_name'] == 'Springfield'])\n",
        "spr_general\n",
        "# obteniendo la tabla spr_general de las filas de df, \n",
        "# donde los valores en la columna 'city' es 'Springfield'\n"
      ]
    },
    {
      "cell_type": "code",
      "execution_count": null,
      "metadata": {
        "id": "ORaVRKto_Zcu"
      },
      "outputs": [],
      "source": [
        "# obteniendo shel_general de las filas df,\n",
        "# donde el valor de la columna 'city' es 'Shelbyville'\n",
        "shel_general = pd.DataFrame(df[df['city_name'] == 'Shelbyville'])\n"
      ]
    },
    {
      "cell_type": "markdown",
      "metadata": {
        "id": "MEJV-CX2_Zcu"
      },
      "source": [
        "Escribe la función genre_weekday() con cuatro parámetros:\n",
        "* Una tabla para los datos (`df`)\n",
        "* El día de la semana (`day`)\n",
        "* La marca de fecha y hora en formato 'hh:mm' (`time1`)\n",
        "* La marca de fecha y hora en formato 'hh:mm' (`time2`)\n",
        "\n",
        "La función debería devolver información de los 15 géneros más populares de un día determinado en un período entre dos marcas de fecha y hora."
      ]
    },
    {
      "cell_type": "code",
      "execution_count": null,
      "metadata": {
        "id": "laJT9BYl_Zcu",
        "outputId": "2f3b3130-f264-42f3-dd74-11477dfca8ca"
      },
      "outputs": [
        {
          "name": "stdout",
          "output_type": "stream",
          "text": [
            "genre_name\n",
            "pop            999\n",
            "dance          731\n",
            "rock           636\n",
            "electronic     627\n",
            "hiphop         366\n",
            "ruspop         250\n",
            "rusrap         230\n",
            "alternative    222\n",
            "world          217\n",
            "classical      197\n",
            "unknown        179\n",
            "metal          147\n",
            "jazz           144\n",
            "soundtrack     126\n",
            "folk           121\n",
            "Name: genre_name, dtype: int64\n"
          ]
        }
      ],
      "source": [
        "# declarando la función genre_weekday() con los parámetros day=, time1= y time2=. Debería\n",
        "# devolver información sobre los géneros más populares de un determinado día a una determinada hora:\n",
        "\n",
        "# 1) Deja que la variable genre_df almacene las filas que cumplen varias condiciones:\n",
        "#    - el valor de la columna 'day' es igual al valor del argumento day=\n",
        "#    - el valor de la columna 'time' es mayor que el valor del argumento time1=\n",
        "#    - el valor en la columna 'time' es menor que el valor del argumento time2=\n",
        "#    Utiliza un filtrado consecutivo con indexación lógica.\n",
        "\n",
        "# 2) Agrupa genre_df por la columna 'genre', toma una de sus columnas, \n",
        "#    y utiliza el método count() para encontrar el número de entradas por cada uno de \n",
        "#    los géneros representados; almacena los Series resultantes en\n",
        "#    la variable genre_df_count\n",
        "\n",
        "# 3) Ordena genre_df_count en orden descendente de frecuencia y guarda el resultado\n",
        "#    en la variable genre_df_sorted\n",
        "\n",
        "# 4) Devuelve un objeto Series con los primeros 15 valores de genre_df_sorted - los 15\n",
        "#    géneros más populares (en un determinado día, en un determinado periodo de tiempo)\n",
        "\n",
        "# Escribe tu función aquí\n",
        "\n",
        "def genre_weekday(data, day, time1, time2):\n",
        "\n",
        "# filtrado consecutivo\n",
        "# genre_df solo almacenará aquellas filas df en las que el día sea igual a day=\n",
        "# genre_df solo almacenará aquellas filas df en las que el tiempo sea menos que time2=\n",
        "#genre_df = # escribe tu código aquí pd.to_datetime()\n",
        "# genre_df solo almacenará aquellas filas df en las que el tiempo sea mayor que time1=\n",
        "#genre_df = # escribe tu código aquí\n",
        "\n",
        "    genre_df =  data[(data['day']== day) & (pd.to_datetime(data['time']) > time1) & ((pd.to_datetime(data['time']) < time2))]\n",
        "\n",
        "# agrupa el DataFrame filtrado por la columna con los nombres de los géneros, toma la columna de género, y encuentra el número de filas por cada género con el método count()\n",
        "    genre_df_grouped = genre_df.groupby(['genre_name'])['genre_name'].count()\n",
        "\n",
        "    \n",
        "# ordenaremos el resultado en orden descendente (por lo que los géneros más populares aparecerán primero en el objeto Series)\n",
        "    genre_df_sorted = genre_df_grouped.sort_values(ascending=False)# escribe tu código aquí\n",
        "\n",
        "# devolveremos el objeto Series que almacena los 15 géneros más populares en un día determinado en un periodo de tiempo determinado\n",
        "    return genre_df_sorted[:15]\n",
        "\n",
        "print(genre_weekday(df,'Monday', '7:00:00','11:00:00'))\n",
        "    \n"
      ]
    },
    {
      "cell_type": "markdown",
      "metadata": {
        "id": "la2s2_PF_Zcu"
      },
      "source": [
        "Compara los resultados de la función `genre_weekday()`para Springfield y Shelbyville el lunes por la mañana (de 7 a 11) y el viernes por la tarde (de 17:00 a 23:00):"
      ]
    },
    {
      "cell_type": "code",
      "execution_count": null,
      "metadata": {
        "id": "yz7itPUQ_Zcu",
        "outputId": "8b191b96-d30c-4ee7-bd4f-48fd0a5194e2"
      },
      "outputs": [
        {
          "name": "stdout",
          "output_type": "stream",
          "text": [
            "genre_name\n",
            "pop            781\n",
            "dance          549\n",
            "electronic     480\n",
            "rock           474\n",
            "hiphop         286\n",
            "ruspop         186\n",
            "world          181\n",
            "rusrap         175\n",
            "alternative    164\n",
            "unknown        161\n",
            "classical      157\n",
            "metal          120\n",
            "jazz           100\n",
            "folk            97\n",
            "soundtrack      95\n",
            "Name: genre_name, dtype: int64\n"
          ]
        }
      ],
      "source": [
        "# llamando a la función para el lunes por la mañana en Springfield (utilizando spr_general en vez de la tabla df)\n",
        "\n",
        "print(genre_weekday(spr_general,'Monday', '7:00:00','11:00:00'))\n"
      ]
    },
    {
      "cell_type": "code",
      "execution_count": null,
      "metadata": {
        "id": "kwUcHPdy_Zcu",
        "outputId": "4f4dc35e-8925-4819-8286-d58b72e1e47c"
      },
      "outputs": [
        {
          "name": "stdout",
          "output_type": "stream",
          "text": [
            "genre_name\n",
            "pop            218\n",
            "dance          182\n",
            "rock           162\n",
            "electronic     147\n",
            "hiphop          80\n",
            "ruspop          64\n",
            "alternative     58\n",
            "rusrap          55\n",
            "jazz            44\n",
            "classical       40\n",
            "world           36\n",
            "rap             32\n",
            "soundtrack      31\n",
            "rnb             27\n",
            "metal           27\n",
            "Name: genre_name, dtype: int64\n"
          ]
        }
      ],
      "source": [
        "# llamando a la función para el lunes por la mañana en Shelbyville (utilizando shel_general en vez de la tabla df)\n",
        "print(genre_weekday(shel_general,'Monday', '7:00:00','11:00:00'))"
      ]
    },
    {
      "cell_type": "code",
      "execution_count": null,
      "metadata": {
        "id": "EzXVRE1o_Zcu",
        "outputId": "7b3690f4-eef7-4695-e8f2-8afd17155d03"
      },
      "outputs": [
        {
          "name": "stdout",
          "output_type": "stream",
          "text": [
            "genre_name\n",
            "pop            713\n",
            "rock           517\n",
            "dance          495\n",
            "electronic     482\n",
            "hiphop         273\n",
            "world          208\n",
            "ruspop         170\n",
            "classical      163\n",
            "alternative    163\n",
            "rusrap         142\n",
            "jazz           111\n",
            "unknown        110\n",
            "soundtrack     105\n",
            "rnb             90\n",
            "metal           88\n",
            "Name: genre_name, dtype: int64\n"
          ]
        }
      ],
      "source": [
        "# llamando a la función para el viernes por la tarde en Springfield\n",
        "print(genre_weekday(spr_general,'Friday', '17:00:00','23:00:00'))"
      ]
    },
    {
      "cell_type": "code",
      "execution_count": null,
      "metadata": {
        "id": "JZaEKu5v_Zcu",
        "outputId": "9622e0f6-839d-4f09-eb99-c4b6f9f0ddfc"
      },
      "outputs": [
        {
          "name": "stdout",
          "output_type": "stream",
          "text": [
            "genre_name\n",
            "pop            256\n",
            "rock           216\n",
            "electronic     216\n",
            "dance          210\n",
            "hiphop          97\n",
            "alternative     63\n",
            "jazz            61\n",
            "classical       60\n",
            "rusrap          59\n",
            "world           54\n",
            "unknown         47\n",
            "ruspop          47\n",
            "soundtrack      40\n",
            "metal           39\n",
            "rap             36\n",
            "Name: genre_name, dtype: int64\n"
          ]
        }
      ],
      "source": [
        "# llamando a la función para el viernes por la tarde en Shelbyville\n",
        "print(genre_weekday(shel_general,'Friday', '17:00:00','23:00:00'))"
      ]
    },
    {
      "cell_type": "markdown",
      "metadata": {
        "id": "70iGGt4wAdsV"
      },
      "source": [
        "<div class=\"alert alert-block alert-success\">\n",
        "<b>Éxito</b> <a class=\"tocSkip\"></a>\n",
        "\n",
        "Excelente, bien definida tu función!"
      ]
    },
    {
      "cell_type": "markdown",
      "metadata": {
        "id": "wrCe4MNX_Zcu"
      },
      "source": [
        "**Conclusión**\n",
        "\n",
        "Habiendo comparado los 15 géneros más populares del lunes por la mañana podemos concluir lo siguiente:\n",
        "\n",
        "1. Los usuarios de Springfield y Shelbyville escuchan música similar. Los cinco géneros más populares son los mismos, solo rock y electrónica han intercambiado posiciones.\n",
        "\n",
        "2. En Springfield el número de valores ausentes resultaron ser tan altos que el valor `'unknown'` llegó al décimo. Esto significa que los valores ausentes forman una parte considerable de los datos, lo que podría ser la base de la cuestión sobre la fiabilidad de nuestras conclusiones.\n",
        "\n",
        "Para el viernes por la tarde, la situación es similar. Los géneros individuales varían algo pero, en general, los 15 más populares son parecidos en las dos ciudades.\n",
        "\n",
        "De esta forma, la segunda hipótesis ha sido parcialmente demostrada:\n",
        "* Los usuarios escuchan música similar al principio y al final de la semana.\n",
        "* No hay una gran diferencia entre Springfield y Shelbyville. En ambas ciudades, el pop es el género más popular.\n",
        "\n",
        "Sin embargo, el número de valores ausentes hace este resultado un tanto cuestionable. En Springfield, hay tantos que afectan a nuestros 15 más populares. De no faltarnos esos valores, las cosas podrían parecer diferentes."
      ]
    },
    {
      "cell_type": "markdown",
      "metadata": {
        "id": "jLmXgdanVyhP"
      },
      "source": [
        "[Volver a Contenidos](#back)"
      ]
    },
    {
      "cell_type": "markdown",
      "metadata": {
        "id": "JolODAqr_Zcu"
      },
      "source": [
        "### Hipótesis 3: preferencias de género en Springfield y Shelbyville <a id='genre'></a>\n",
        "\n",
        "Hipótesis: Shelbyville ama la música rap. A los ciudadanos de Springfield les gusta más el pop."
      ]
    },
    {
      "cell_type": "markdown",
      "metadata": {
        "id": "DlegSvaT_Zcu"
      },
      "source": [
        "Agrupa la tabla `spr_general` por género y encuentra el número de canciones reproducidas de cada género con el método `count()`. Después, ordena el resultado en orden descendente y guárdalo en `spr_genres`."
      ]
    },
    {
      "cell_type": "code",
      "execution_count": null,
      "metadata": {
        "id": "r19lIPke_Zcu"
      },
      "outputs": [],
      "source": [
        "# en una línea: agrupa la tabla spr_general por la columna 'genre',\n",
        "agrupar = spr_general.groupby('genre_name')['genre_name'].count()\n",
        "# cuenta los valores 'genre' con count() en la agrupación,\n",
        "spr_genres = agrupar.sort_values(ascending=False)\n",
        "# ordena el Series resultante en orden descendiente, y almacénalo en spr_genres"
      ]
    },
    {
      "cell_type": "markdown",
      "metadata": {
        "id": "6kMuomxTiIr8"
      },
      "source": [
        "Imprime las 10 primeras filas de `spr_genres`:"
      ]
    },
    {
      "cell_type": "code",
      "execution_count": null,
      "metadata": {
        "id": "WhCSooF8_Zcv",
        "outputId": "d6342ac1-9c79-4b8c-da5e-f40ecc6edf27"
      },
      "outputs": [
        {
          "name": "stdout",
          "output_type": "stream",
          "text": [
            "genre_name\n",
            "pop            5892\n",
            "dance          4435\n",
            "rock           3965\n",
            "electronic     3786\n",
            "hiphop         2096\n",
            "classical      1616\n",
            "world          1432\n",
            "alternative    1379\n",
            "ruspop         1372\n",
            "rusrap         1161\n",
            "Name: genre_name, dtype: int64\n"
          ]
        }
      ],
      "source": [
        "# imprimiendo las 10 primeras filas de spr_genres\n",
        "print(spr_genres.head(10))"
      ]
    },
    {
      "cell_type": "markdown",
      "metadata": {
        "id": "cnPG2vnN_Zcv"
      },
      "source": [
        "Ahora haz lo mismo con los datos de Shelbyville.\n",
        "\n",
        "Agrupa la tabla `shel_general` por género y encuentra el número de canciones reproducidas de cada género. Después, ordena el resultado en orden descendente y guárdalo en la tabla `shel_genres`:\n"
      ]
    },
    {
      "cell_type": "code",
      "execution_count": null,
      "metadata": {
        "id": "gluLIpE7_Zcv"
      },
      "outputs": [],
      "source": [
        "# en una línea: agrupa la tabla shel_general por la columna 'genre', \n",
        "# cuenta los valores 'genre' en el agrupamiento con count(), \n",
        "# ordena el Series resultante en orden descendente y guárdalo en shel_genres\n",
        "# en una línea: agrupa la tabla spr_general por la columna 'genre',\n",
        "agrupar_shel = shel_general.groupby('genre_name')['genre_name'].count()\n",
        "# cuenta los valores 'genre' con count() en la agrupación,\n",
        "shel_genres = agrupar_shel.sort_values(ascending=False)\n",
        "# ordena el Series resultante en orden descendiente, y almacénalo en spr_genres"
      ]
    },
    {
      "cell_type": "markdown",
      "metadata": {
        "id": "5Doha_ODgyQ8"
      },
      "source": [
        "Imprime las 10 primeras filas de `shel_genres`:"
      ]
    },
    {
      "cell_type": "code",
      "execution_count": null,
      "metadata": {
        "id": "uaGJHjVU_Zcv",
        "outputId": "7c744781-3d1e-4b0f-f400-ff5ce9fc99e3"
      },
      "outputs": [
        {
          "name": "stdout",
          "output_type": "stream",
          "text": [
            "genre_name\n",
            "pop            2431\n",
            "dance          1932\n",
            "rock           1879\n",
            "electronic     1736\n",
            "hiphop          960\n",
            "alternative     649\n",
            "classical       646\n",
            "rusrap          564\n",
            "ruspop          538\n",
            "world           515\n",
            "Name: genre_name, dtype: int64\n"
          ]
        }
      ],
      "source": [
        "# imprimiendo las 10 primeras filas de shel_genres\n",
        "print(shel_genres.head(10))"
      ]
    },
    {
      "cell_type": "markdown",
      "metadata": {
        "id": "RY51YJYu_Zcv"
      },
      "source": [
        "**Conclusión**"
      ]
    },
    {
      "cell_type": "markdown",
      "metadata": {
        "id": "nVhnJEm__Zcv"
      },
      "source": [
        "La hipótesis ha sido parcialmente demostrada:\n",
        "* La música pop es el género más popular en Springfield, tal como se esperaba.\n",
        "* Sin embargo, la música pop ha resultado ser igual de popular en Springfield que en Shelbyville y el rap no estaba entre los 5 más populares en ninguna de las ciudades.\n"
      ]
    },
    {
      "cell_type": "markdown",
      "metadata": {
        "id": "Byr0RfpPVz14"
      },
      "source": [
        "[Volver a Contenidos](#back)"
      ]
    },
    {
      "cell_type": "markdown",
      "metadata": {
        "id": "ykKQ0N65_Zcv"
      },
      "source": [
        "# Conclusiones <a id='end'></a>"
      ]
    },
    {
      "cell_type": "markdown",
      "metadata": {
        "id": "tjUwbHb3_Zcv"
      },
      "source": [
        "Hemos probado las siguientes tres hipótesis:\n",
        "\n",
        "1. La actividad de los usuarios difiere dependiendo del día de la semana y de las distintas ciudades. \n",
        "2. Los lunes por la mañana los residentes de Springfield y Shelbyville escuchan géneros distintos. Lo mismo ocurre con los viernes por la noche.\n",
        "3. Los oyentes de Springfield y Shelbyville tienen distintas preferencias. En ambas ciudades, Springfield y Shelbyville, se prefiere el pop.\n",
        "\n",
        "Tras analizar los datos, concluimos:\n",
        "\n",
        "1. La actividad del usuario en Springfield y Shelbyville depende del día de la semana aunque las ciudades varían de diferentes formas. \n",
        "\n",
        "La primera hipótesis ha sido aceptada completamente.\n",
        "\n",
        "2. Las preferencias musicales no varían significativamente en el transcurso de la semana en Springfield y Shelbyville. Podemos observar pequeñas diferencias en el orden los lunes, pero:\n",
        "* En Springfield y Shelbyville la gente lo que más escucha es la música pop.\n",
        "\n",
        "Así que no podemos aceptar esta hipótesis. También debemos tener en cuenta que el resultado podría haber sido diferente si no fuera por los valores ausentes.\n",
        "\n",
        "3. Resulta que las preferencias musicales de los usuarios de Springfield y Shelbyville son bastante parecidas.\n",
        "\n",
        "La tercera hipótesis es rechazada. Si hay alguna diferencia en las preferencias no se puede observar en los datos.\n",
        "\n",
        "### Nota \n",
        "En los proyectos reales, la investigación supone el estudio de hipótesis estadísticas que es más preciso y cuantitativo. También ten en cuenta que no siempre podemos sacar conclusiones sobre una ciudad entera basándonos en datos de una sola fuente.\n",
        "\n",
        "Analizarás el estudio de hipótesis en el sprint de análisis estadístico de datos."
      ]
    },
    {
      "cell_type": "markdown",
      "metadata": {
        "id": "Ju4AHDSgV1FE"
      },
      "source": [
        "[Volver a Contenidos](#back)"
      ]
    }
  ],
  "metadata": {
    "ExecuteTimeLog": [
      {
        "duration": 111,
        "start_time": "2022-07-28T21:48:55.602Z"
      },
      {
        "duration": 382,
        "start_time": "2022-07-28T21:48:57.556Z"
      },
      {
        "duration": 102,
        "start_time": "2022-07-28T21:49:01.141Z"
      },
      {
        "duration": 56,
        "start_time": "2022-07-28T21:49:06.083Z"
      },
      {
        "duration": 6,
        "start_time": "2022-07-28T21:49:16.094Z"
      },
      {
        "duration": 6,
        "start_time": "2022-07-28T21:49:25.754Z"
      },
      {
        "duration": 112,
        "start_time": "2022-07-28T21:49:31.999Z"
      },
      {
        "duration": 446,
        "start_time": "2022-07-28T21:49:53.882Z"
      },
      {
        "duration": 150,
        "start_time": "2022-07-28T21:50:22.242Z"
      },
      {
        "duration": 111,
        "start_time": "2022-07-28T21:50:23.951Z"
      },
      {
        "duration": 40,
        "start_time": "2022-07-28T23:54:17.908Z"
      },
      {
        "duration": 365,
        "start_time": "2022-07-28T23:54:27.681Z"
      },
      {
        "duration": 790,
        "start_time": "2022-07-28T23:54:30.074Z"
      },
      {
        "duration": 112,
        "start_time": "2022-07-28T23:54:31.618Z"
      },
      {
        "duration": 8,
        "start_time": "2022-07-28T23:54:42.998Z"
      },
      {
        "duration": 10,
        "start_time": "2022-07-28T23:54:48.770Z"
      },
      {
        "duration": 29,
        "start_time": "2022-07-28T23:58:26.884Z"
      },
      {
        "duration": 7,
        "start_time": "2022-07-28T23:58:33.856Z"
      },
      {
        "duration": 24,
        "start_time": "2022-07-28T23:59:07.354Z"
      },
      {
        "duration": 6,
        "start_time": "2022-07-29T00:09:41.249Z"
      },
      {
        "duration": 7,
        "start_time": "2022-07-29T00:09:59.689Z"
      },
      {
        "duration": 3,
        "start_time": "2022-07-29T00:10:08.527Z"
      },
      {
        "duration": 117,
        "start_time": "2022-07-29T00:16:14.465Z"
      },
      {
        "duration": 108,
        "start_time": "2022-07-29T00:16:29.131Z"
      },
      {
        "duration": 112,
        "start_time": "2022-07-29T00:16:42.417Z"
      },
      {
        "duration": 8,
        "start_time": "2022-07-29T00:17:47.870Z"
      },
      {
        "duration": 7,
        "start_time": "2022-07-29T00:18:23.862Z"
      },
      {
        "duration": 7,
        "start_time": "2022-07-29T00:18:51.983Z"
      },
      {
        "duration": 10,
        "start_time": "2022-07-29T00:19:32.271Z"
      },
      {
        "duration": 3,
        "start_time": "2022-07-29T00:19:43.127Z"
      },
      {
        "duration": 13,
        "start_time": "2022-07-29T00:19:50.846Z"
      },
      {
        "duration": 4,
        "start_time": "2022-07-29T00:19:54.658Z"
      },
      {
        "duration": 4,
        "start_time": "2022-07-29T00:20:05.117Z"
      },
      {
        "duration": 26,
        "start_time": "2022-07-29T00:20:15.096Z"
      },
      {
        "duration": 3,
        "start_time": "2022-07-29T00:20:18.974Z"
      },
      {
        "duration": 11,
        "start_time": "2022-07-29T00:20:24.522Z"
      },
      {
        "duration": 4,
        "start_time": "2022-07-29T00:20:27.096Z"
      },
      {
        "duration": 25,
        "start_time": "2022-07-29T00:20:41.893Z"
      },
      {
        "duration": 4,
        "start_time": "2022-07-29T00:20:49.652Z"
      },
      {
        "duration": 12,
        "start_time": "2022-07-29T00:20:57.847Z"
      },
      {
        "duration": 3,
        "start_time": "2022-07-29T00:21:12.808Z"
      },
      {
        "duration": 15,
        "start_time": "2022-07-29T00:21:22.864Z"
      },
      {
        "duration": 17,
        "start_time": "2022-07-29T00:21:42.395Z"
      },
      {
        "duration": 18,
        "start_time": "2022-07-29T00:21:48.604Z"
      },
      {
        "duration": 3,
        "start_time": "2022-07-29T00:21:58.786Z"
      },
      {
        "duration": 4,
        "start_time": "2022-07-29T00:22:09.578Z"
      },
      {
        "duration": 155,
        "start_time": "2022-07-29T00:22:46.704Z"
      },
      {
        "duration": 107,
        "start_time": "2022-07-29T00:22:47.965Z"
      },
      {
        "duration": 9,
        "start_time": "2022-07-29T00:22:51.015Z"
      },
      {
        "duration": 24,
        "start_time": "2022-07-29T00:22:55.774Z"
      },
      {
        "duration": 4,
        "start_time": "2022-07-29T00:23:03.996Z"
      },
      {
        "duration": 14,
        "start_time": "2022-07-29T00:23:09.508Z"
      },
      {
        "duration": 4,
        "start_time": "2022-07-29T00:23:14.130Z"
      },
      {
        "duration": 4,
        "start_time": "2022-07-29T00:23:22.666Z"
      },
      {
        "duration": 7,
        "start_time": "2022-07-29T00:23:29.864Z"
      },
      {
        "duration": 4,
        "start_time": "2022-07-29T00:23:31.242Z"
      },
      {
        "duration": 184,
        "start_time": "2022-07-29T05:03:11.451Z"
      },
      {
        "duration": 132,
        "start_time": "2022-07-29T05:03:12.085Z"
      },
      {
        "duration": 14,
        "start_time": "2022-07-29T05:03:17.077Z"
      },
      {
        "duration": 48,
        "start_time": "2022-07-29T05:03:44.537Z"
      },
      {
        "duration": 6,
        "start_time": "2022-07-29T05:03:52.710Z"
      },
      {
        "duration": 8,
        "start_time": "2022-07-29T05:03:54.089Z"
      },
      {
        "duration": 5,
        "start_time": "2022-07-29T05:03:55.409Z"
      },
      {
        "duration": 125,
        "start_time": "2022-07-29T05:04:39.204Z"
      },
      {
        "duration": 35,
        "start_time": "2022-07-29T05:04:51.664Z"
      },
      {
        "duration": 19,
        "start_time": "2022-07-29T05:08:23.128Z"
      },
      {
        "duration": 29,
        "start_time": "2022-07-29T05:09:20.179Z"
      },
      {
        "duration": 49,
        "start_time": "2022-07-29T20:09:52.953Z"
      },
      {
        "duration": 401,
        "start_time": "2022-07-29T20:10:01.560Z"
      },
      {
        "duration": 228,
        "start_time": "2022-07-29T20:10:03.295Z"
      },
      {
        "duration": 134,
        "start_time": "2022-07-29T20:10:03.525Z"
      },
      {
        "duration": 11,
        "start_time": "2022-07-29T20:10:03.828Z"
      },
      {
        "duration": 28,
        "start_time": "2022-07-29T20:10:04.213Z"
      },
      {
        "duration": 4,
        "start_time": "2022-07-29T20:10:05.499Z"
      },
      {
        "duration": 13,
        "start_time": "2022-07-29T20:10:07.617Z"
      },
      {
        "duration": 4,
        "start_time": "2022-07-29T20:10:08.702Z"
      },
      {
        "duration": 37,
        "start_time": "2022-07-29T20:10:09.655Z"
      },
      {
        "duration": 118,
        "start_time": "2022-07-29T20:10:11.025Z"
      },
      {
        "duration": 84,
        "start_time": "2022-07-29T20:10:18.038Z"
      },
      {
        "duration": 24,
        "start_time": "2022-07-29T20:10:25.831Z"
      },
      {
        "duration": 26,
        "start_time": "2022-07-29T20:10:30.625Z"
      },
      {
        "duration": 71,
        "start_time": "2022-07-29T20:10:32.592Z"
      },
      {
        "duration": 2,
        "start_time": "2022-07-29T20:12:02.166Z"
      },
      {
        "duration": 191,
        "start_time": "2022-07-29T20:12:02.170Z"
      },
      {
        "duration": 135,
        "start_time": "2022-07-29T20:12:02.363Z"
      },
      {
        "duration": 9,
        "start_time": "2022-07-29T20:12:02.500Z"
      },
      {
        "duration": 29,
        "start_time": "2022-07-29T20:12:02.523Z"
      },
      {
        "duration": 26,
        "start_time": "2022-07-29T20:12:02.554Z"
      },
      {
        "duration": 27,
        "start_time": "2022-07-29T20:12:02.582Z"
      },
      {
        "duration": 16,
        "start_time": "2022-07-29T20:12:02.610Z"
      },
      {
        "duration": 42,
        "start_time": "2022-07-29T20:12:02.627Z"
      },
      {
        "duration": 74,
        "start_time": "2022-07-29T20:12:02.671Z"
      },
      {
        "duration": 0,
        "start_time": "2022-07-29T20:12:02.748Z"
      },
      {
        "duration": 0,
        "start_time": "2022-07-29T20:12:02.749Z"
      },
      {
        "duration": 0,
        "start_time": "2022-07-29T20:12:02.750Z"
      },
      {
        "duration": 0,
        "start_time": "2022-07-29T20:12:02.751Z"
      },
      {
        "duration": 0,
        "start_time": "2022-07-29T20:12:02.752Z"
      },
      {
        "duration": 0,
        "start_time": "2022-07-29T20:12:02.753Z"
      },
      {
        "duration": 0,
        "start_time": "2022-07-29T20:12:02.754Z"
      },
      {
        "duration": 0,
        "start_time": "2022-07-29T20:12:02.755Z"
      },
      {
        "duration": 0,
        "start_time": "2022-07-29T20:12:02.756Z"
      },
      {
        "duration": 0,
        "start_time": "2022-07-29T20:12:02.757Z"
      },
      {
        "duration": 0,
        "start_time": "2022-07-29T20:12:02.758Z"
      },
      {
        "duration": 0,
        "start_time": "2022-07-29T20:12:02.760Z"
      },
      {
        "duration": 0,
        "start_time": "2022-07-29T20:12:02.761Z"
      },
      {
        "duration": 0,
        "start_time": "2022-07-29T20:12:02.763Z"
      },
      {
        "duration": 0,
        "start_time": "2022-07-29T20:12:02.764Z"
      },
      {
        "duration": 0,
        "start_time": "2022-07-29T20:12:02.765Z"
      },
      {
        "duration": 0,
        "start_time": "2022-07-29T20:12:02.766Z"
      },
      {
        "duration": 0,
        "start_time": "2022-07-29T20:12:02.767Z"
      },
      {
        "duration": 0,
        "start_time": "2022-07-29T20:12:02.768Z"
      },
      {
        "duration": 0,
        "start_time": "2022-07-29T20:12:02.769Z"
      },
      {
        "duration": 0,
        "start_time": "2022-07-29T20:12:02.770Z"
      },
      {
        "duration": 0,
        "start_time": "2022-07-29T20:12:02.771Z"
      },
      {
        "duration": 0,
        "start_time": "2022-07-29T20:12:02.772Z"
      },
      {
        "duration": 0,
        "start_time": "2022-07-29T20:12:02.774Z"
      },
      {
        "duration": 0,
        "start_time": "2022-07-29T20:12:02.775Z"
      },
      {
        "duration": 0,
        "start_time": "2022-07-29T20:12:02.775Z"
      },
      {
        "duration": 0,
        "start_time": "2022-07-29T20:12:02.776Z"
      },
      {
        "duration": 0,
        "start_time": "2022-07-29T20:12:02.777Z"
      },
      {
        "duration": 0,
        "start_time": "2022-07-29T20:12:02.778Z"
      },
      {
        "duration": 80,
        "start_time": "2022-07-29T20:12:18.848Z"
      },
      {
        "duration": 25,
        "start_time": "2022-07-29T20:12:22.774Z"
      },
      {
        "duration": 148,
        "start_time": "2022-07-29T20:12:25.629Z"
      },
      {
        "duration": 82,
        "start_time": "2022-07-29T20:12:32.495Z"
      },
      {
        "duration": 84,
        "start_time": "2022-07-29T20:20:29.662Z"
      },
      {
        "duration": 139,
        "start_time": "2022-07-29T20:28:51.949Z"
      },
      {
        "duration": 95,
        "start_time": "2022-07-29T20:31:59.446Z"
      },
      {
        "duration": 86,
        "start_time": "2022-07-29T20:32:10.522Z"
      },
      {
        "duration": 79,
        "start_time": "2022-07-29T20:33:06.565Z"
      },
      {
        "duration": 89,
        "start_time": "2022-07-29T20:33:12.689Z"
      },
      {
        "duration": 71,
        "start_time": "2022-07-29T20:33:20.284Z"
      },
      {
        "duration": 143,
        "start_time": "2022-07-29T20:33:26.663Z"
      },
      {
        "duration": 86,
        "start_time": "2022-07-29T20:33:37.407Z"
      },
      {
        "duration": 24,
        "start_time": "2022-07-29T20:34:26.339Z"
      },
      {
        "duration": 85,
        "start_time": "2022-07-29T20:34:36.239Z"
      },
      {
        "duration": 83,
        "start_time": "2022-07-29T20:34:49.375Z"
      },
      {
        "duration": 3,
        "start_time": "2022-07-29T20:36:52.569Z"
      },
      {
        "duration": 110,
        "start_time": "2022-07-29T20:37:10.195Z"
      },
      {
        "duration": 71,
        "start_time": "2022-07-29T20:40:04.972Z"
      },
      {
        "duration": 77,
        "start_time": "2022-07-29T20:41:12.538Z"
      },
      {
        "duration": 87,
        "start_time": "2022-07-29T20:41:29.129Z"
      },
      {
        "duration": 87,
        "start_time": "2022-07-29T20:41:33.116Z"
      },
      {
        "duration": 3,
        "start_time": "2022-07-29T20:41:46.267Z"
      },
      {
        "duration": 100,
        "start_time": "2022-07-29T20:42:12.455Z"
      },
      {
        "duration": 24,
        "start_time": "2022-07-29T20:42:24.494Z"
      },
      {
        "duration": 4,
        "start_time": "2022-07-29T20:42:44.826Z"
      },
      {
        "duration": 96,
        "start_time": "2022-07-29T20:43:24.503Z"
      },
      {
        "duration": 89,
        "start_time": "2022-07-29T20:45:14.693Z"
      },
      {
        "duration": 23,
        "start_time": "2022-07-29T20:45:45.786Z"
      },
      {
        "duration": 72,
        "start_time": "2022-07-29T20:46:13.871Z"
      },
      {
        "duration": 91,
        "start_time": "2022-07-29T20:46:23.848Z"
      },
      {
        "duration": 23,
        "start_time": "2022-07-29T20:46:31.947Z"
      },
      {
        "duration": 154,
        "start_time": "2022-07-29T20:49:21.283Z"
      },
      {
        "duration": 25,
        "start_time": "2022-07-29T20:49:23.559Z"
      },
      {
        "duration": 113,
        "start_time": "2022-07-29T20:49:36.652Z"
      },
      {
        "duration": 15,
        "start_time": "2022-07-29T20:49:47.505Z"
      },
      {
        "duration": 23,
        "start_time": "2022-07-29T20:49:56.664Z"
      },
      {
        "duration": 23,
        "start_time": "2022-07-29T20:50:48.080Z"
      },
      {
        "duration": 113,
        "start_time": "2022-07-29T20:51:14.995Z"
      },
      {
        "duration": 18,
        "start_time": "2022-07-29T20:52:52.386Z"
      },
      {
        "duration": 10,
        "start_time": "2022-07-29T20:53:39.721Z"
      },
      {
        "duration": 82,
        "start_time": "2022-07-29T20:53:50.161Z"
      },
      {
        "duration": 10,
        "start_time": "2022-07-29T20:53:54.252Z"
      },
      {
        "duration": 10,
        "start_time": "2022-07-29T20:53:58.968Z"
      },
      {
        "duration": 9,
        "start_time": "2022-07-29T20:54:05.031Z"
      },
      {
        "duration": 93,
        "start_time": "2022-07-29T20:56:05.773Z"
      },
      {
        "duration": 12,
        "start_time": "2022-07-29T20:56:19.065Z"
      },
      {
        "duration": 9,
        "start_time": "2022-07-29T20:56:24.988Z"
      },
      {
        "duration": 104,
        "start_time": "2022-07-29T20:56:29.958Z"
      },
      {
        "duration": 15,
        "start_time": "2022-07-29T20:56:38.306Z"
      },
      {
        "duration": 8,
        "start_time": "2022-07-29T20:56:49.089Z"
      },
      {
        "duration": 9,
        "start_time": "2022-07-29T20:56:53.802Z"
      },
      {
        "duration": 2,
        "start_time": "2022-07-29T20:57:17.544Z"
      },
      {
        "duration": 153,
        "start_time": "2022-07-29T20:57:17.560Z"
      },
      {
        "duration": 122,
        "start_time": "2022-07-29T20:57:17.715Z"
      },
      {
        "duration": 10,
        "start_time": "2022-07-29T20:57:17.838Z"
      },
      {
        "duration": 31,
        "start_time": "2022-07-29T20:57:17.849Z"
      },
      {
        "duration": 7,
        "start_time": "2022-07-29T20:57:17.882Z"
      },
      {
        "duration": 9,
        "start_time": "2022-07-29T20:57:17.890Z"
      },
      {
        "duration": 5,
        "start_time": "2022-07-29T20:57:17.924Z"
      },
      {
        "duration": 30,
        "start_time": "2022-07-29T20:57:17.930Z"
      },
      {
        "duration": 14,
        "start_time": "2022-07-29T20:57:17.962Z"
      },
      {
        "duration": 25,
        "start_time": "2022-07-29T20:57:17.978Z"
      },
      {
        "duration": 20,
        "start_time": "2022-07-29T20:57:18.004Z"
      },
      {
        "duration": 4,
        "start_time": "2022-07-29T20:57:18.026Z"
      },
      {
        "duration": 8,
        "start_time": "2022-07-29T20:57:18.031Z"
      },
      {
        "duration": 7,
        "start_time": "2022-07-29T20:57:18.042Z"
      },
      {
        "duration": 7,
        "start_time": "2022-07-29T20:57:18.051Z"
      },
      {
        "duration": 5,
        "start_time": "2022-07-29T20:57:18.060Z"
      },
      {
        "duration": 6,
        "start_time": "2022-07-29T20:57:18.066Z"
      },
      {
        "duration": 14,
        "start_time": "2022-07-29T20:57:18.073Z"
      },
      {
        "duration": 7,
        "start_time": "2022-07-29T20:57:18.088Z"
      },
      {
        "duration": 5,
        "start_time": "2022-07-29T20:57:18.096Z"
      },
      {
        "duration": 16,
        "start_time": "2022-07-29T20:57:18.102Z"
      },
      {
        "duration": 10,
        "start_time": "2022-07-29T20:57:18.119Z"
      },
      {
        "duration": 8,
        "start_time": "2022-07-29T20:57:18.130Z"
      },
      {
        "duration": 10,
        "start_time": "2022-07-29T20:57:18.139Z"
      },
      {
        "duration": 5,
        "start_time": "2022-07-29T20:57:18.150Z"
      },
      {
        "duration": 5,
        "start_time": "2022-07-29T20:57:18.157Z"
      },
      {
        "duration": 6,
        "start_time": "2022-07-29T20:57:18.163Z"
      },
      {
        "duration": 10,
        "start_time": "2022-07-29T20:57:18.170Z"
      },
      {
        "duration": 8,
        "start_time": "2022-07-29T20:57:18.182Z"
      },
      {
        "duration": 96,
        "start_time": "2022-07-29T20:57:18.192Z"
      },
      {
        "duration": 0,
        "start_time": "2022-07-29T20:57:18.290Z"
      },
      {
        "duration": 0,
        "start_time": "2022-07-29T20:57:18.291Z"
      },
      {
        "duration": 0,
        "start_time": "2022-07-29T20:57:18.292Z"
      },
      {
        "duration": 0,
        "start_time": "2022-07-29T20:57:18.293Z"
      },
      {
        "duration": 0,
        "start_time": "2022-07-29T20:57:18.295Z"
      },
      {
        "duration": 0,
        "start_time": "2022-07-29T20:57:18.296Z"
      },
      {
        "duration": 0,
        "start_time": "2022-07-29T20:57:18.297Z"
      },
      {
        "duration": 0,
        "start_time": "2022-07-29T20:57:18.299Z"
      },
      {
        "duration": 16,
        "start_time": "2022-07-29T20:57:28.058Z"
      },
      {
        "duration": 23,
        "start_time": "2022-07-29T20:57:29.457Z"
      },
      {
        "duration": 23,
        "start_time": "2022-07-29T20:57:42.520Z"
      },
      {
        "duration": 71,
        "start_time": "2022-07-29T20:57:56.958Z"
      },
      {
        "duration": 112,
        "start_time": "2022-07-29T20:59:02.467Z"
      },
      {
        "duration": 99,
        "start_time": "2022-07-29T20:59:12.871Z"
      },
      {
        "duration": 14,
        "start_time": "2022-07-29T20:59:51.357Z"
      },
      {
        "duration": 24,
        "start_time": "2022-07-29T21:00:03.504Z"
      },
      {
        "duration": 15,
        "start_time": "2022-07-29T21:00:19.267Z"
      },
      {
        "duration": 22,
        "start_time": "2022-07-29T21:07:31.862Z"
      },
      {
        "duration": 110,
        "start_time": "2022-07-29T21:08:44.649Z"
      },
      {
        "duration": 163,
        "start_time": "2022-07-29T21:10:36.554Z"
      },
      {
        "duration": 15,
        "start_time": "2022-07-29T21:12:12.040Z"
      },
      {
        "duration": 22,
        "start_time": "2022-07-29T21:12:23.201Z"
      },
      {
        "duration": 15,
        "start_time": "2022-07-29T21:13:19.595Z"
      },
      {
        "duration": 1395,
        "start_time": "2022-07-29T21:14:16.851Z"
      },
      {
        "duration": 16,
        "start_time": "2022-07-29T21:14:50.941Z"
      },
      {
        "duration": 38,
        "start_time": "2022-07-29T21:14:54.967Z"
      },
      {
        "duration": 18,
        "start_time": "2022-07-29T21:15:06.564Z"
      },
      {
        "duration": 16,
        "start_time": "2022-07-29T21:15:18.342Z"
      },
      {
        "duration": 24,
        "start_time": "2022-07-29T21:15:19.935Z"
      },
      {
        "duration": 14,
        "start_time": "2022-07-29T21:17:46.599Z"
      },
      {
        "duration": 23,
        "start_time": "2022-07-29T21:17:48.264Z"
      },
      {
        "duration": 7,
        "start_time": "2022-07-29T21:20:53.725Z"
      },
      {
        "duration": 25,
        "start_time": "2022-07-29T21:21:29.925Z"
      },
      {
        "duration": 3,
        "start_time": "2022-07-29T21:21:41.267Z"
      },
      {
        "duration": 56,
        "start_time": "2022-07-29T21:55:22.377Z"
      },
      {
        "duration": 62,
        "start_time": "2022-07-29T21:56:47.969Z"
      },
      {
        "duration": 52,
        "start_time": "2022-07-29T21:56:57.448Z"
      },
      {
        "duration": 54,
        "start_time": "2022-07-29T22:10:29.040Z"
      },
      {
        "duration": 62,
        "start_time": "2022-07-29T22:11:11.196Z"
      },
      {
        "duration": 61,
        "start_time": "2022-07-29T22:11:24.163Z"
      },
      {
        "duration": 26,
        "start_time": "2022-07-29T22:11:54.597Z"
      },
      {
        "duration": 52,
        "start_time": "2022-07-29T22:11:56.813Z"
      },
      {
        "duration": 65,
        "start_time": "2022-07-29T22:12:09.015Z"
      },
      {
        "duration": 54,
        "start_time": "2022-07-29T22:12:22.602Z"
      },
      {
        "duration": 55,
        "start_time": "2022-07-29T22:12:27.718Z"
      },
      {
        "duration": 3,
        "start_time": "2022-07-29T22:12:41.170Z"
      },
      {
        "duration": 54,
        "start_time": "2022-07-29T22:12:43.726Z"
      },
      {
        "duration": 2,
        "start_time": "2022-07-29T22:12:53.458Z"
      },
      {
        "duration": 179,
        "start_time": "2022-07-29T22:12:53.464Z"
      },
      {
        "duration": 133,
        "start_time": "2022-07-29T22:12:53.645Z"
      },
      {
        "duration": 10,
        "start_time": "2022-07-29T22:12:53.780Z"
      },
      {
        "duration": 40,
        "start_time": "2022-07-29T22:12:53.791Z"
      },
      {
        "duration": 23,
        "start_time": "2022-07-29T22:12:53.833Z"
      },
      {
        "duration": 32,
        "start_time": "2022-07-29T22:12:53.858Z"
      },
      {
        "duration": 9,
        "start_time": "2022-07-29T22:12:53.892Z"
      },
      {
        "duration": 41,
        "start_time": "2022-07-29T22:12:53.903Z"
      },
      {
        "duration": 31,
        "start_time": "2022-07-29T22:12:53.945Z"
      },
      {
        "duration": 58,
        "start_time": "2022-07-29T22:12:53.978Z"
      },
      {
        "duration": 63,
        "start_time": "2022-07-29T22:12:54.037Z"
      },
      {
        "duration": 60,
        "start_time": "2022-07-29T22:13:27.980Z"
      },
      {
        "duration": 62,
        "start_time": "2022-07-29T22:14:41.501Z"
      },
      {
        "duration": 56,
        "start_time": "2022-07-29T22:14:44.273Z"
      },
      {
        "duration": 61,
        "start_time": "2022-07-29T22:15:06.156Z"
      },
      {
        "duration": 57,
        "start_time": "2022-07-29T22:15:07.913Z"
      },
      {
        "duration": 3,
        "start_time": "2022-07-29T22:15:14.197Z"
      },
      {
        "duration": 182,
        "start_time": "2022-07-29T22:15:14.203Z"
      },
      {
        "duration": 125,
        "start_time": "2022-07-29T22:15:14.387Z"
      },
      {
        "duration": 18,
        "start_time": "2022-07-29T22:15:14.514Z"
      },
      {
        "duration": 46,
        "start_time": "2022-07-29T22:15:14.534Z"
      },
      {
        "duration": 13,
        "start_time": "2022-07-29T22:15:14.582Z"
      },
      {
        "duration": 13,
        "start_time": "2022-07-29T22:15:14.596Z"
      },
      {
        "duration": 8,
        "start_time": "2022-07-29T22:15:14.611Z"
      },
      {
        "duration": 31,
        "start_time": "2022-07-29T22:15:14.621Z"
      },
      {
        "duration": 14,
        "start_time": "2022-07-29T22:15:14.654Z"
      },
      {
        "duration": 26,
        "start_time": "2022-07-29T22:15:14.671Z"
      },
      {
        "duration": 73,
        "start_time": "2022-07-29T22:15:14.699Z"
      },
      {
        "duration": 61,
        "start_time": "2022-07-29T22:15:16.753Z"
      },
      {
        "duration": 3,
        "start_time": "2022-07-29T22:16:01.255Z"
      },
      {
        "duration": 172,
        "start_time": "2022-07-29T22:16:01.262Z"
      },
      {
        "duration": 126,
        "start_time": "2022-07-29T22:16:01.437Z"
      },
      {
        "duration": 10,
        "start_time": "2022-07-29T22:16:01.565Z"
      },
      {
        "duration": 39,
        "start_time": "2022-07-29T22:16:01.576Z"
      },
      {
        "duration": 12,
        "start_time": "2022-07-29T22:16:01.623Z"
      },
      {
        "duration": 24,
        "start_time": "2022-07-29T22:16:01.636Z"
      },
      {
        "duration": 25,
        "start_time": "2022-07-29T22:16:01.662Z"
      },
      {
        "duration": 35,
        "start_time": "2022-07-29T22:16:01.689Z"
      },
      {
        "duration": 38,
        "start_time": "2022-07-29T22:16:01.726Z"
      },
      {
        "duration": 46,
        "start_time": "2022-07-29T22:16:01.766Z"
      },
      {
        "duration": 115,
        "start_time": "2022-07-29T22:16:01.814Z"
      },
      {
        "duration": 95,
        "start_time": "2022-07-29T22:16:01.930Z"
      },
      {
        "duration": 0,
        "start_time": "2022-07-29T22:16:02.027Z"
      },
      {
        "duration": 0,
        "start_time": "2022-07-29T22:16:02.028Z"
      },
      {
        "duration": 0,
        "start_time": "2022-07-29T22:16:02.030Z"
      },
      {
        "duration": 0,
        "start_time": "2022-07-29T22:16:02.030Z"
      },
      {
        "duration": 0,
        "start_time": "2022-07-29T22:16:02.031Z"
      },
      {
        "duration": 0,
        "start_time": "2022-07-29T22:16:02.032Z"
      },
      {
        "duration": 0,
        "start_time": "2022-07-29T22:16:02.033Z"
      },
      {
        "duration": 0,
        "start_time": "2022-07-29T22:16:02.035Z"
      },
      {
        "duration": 0,
        "start_time": "2022-07-29T22:16:02.036Z"
      },
      {
        "duration": 0,
        "start_time": "2022-07-29T22:16:02.037Z"
      },
      {
        "duration": 0,
        "start_time": "2022-07-29T22:16:02.038Z"
      },
      {
        "duration": 0,
        "start_time": "2022-07-29T22:16:02.039Z"
      },
      {
        "duration": 0,
        "start_time": "2022-07-29T22:16:02.040Z"
      },
      {
        "duration": 0,
        "start_time": "2022-07-29T22:16:02.041Z"
      },
      {
        "duration": 0,
        "start_time": "2022-07-29T22:16:02.042Z"
      },
      {
        "duration": 0,
        "start_time": "2022-07-29T22:16:02.043Z"
      },
      {
        "duration": 0,
        "start_time": "2022-07-29T22:16:02.044Z"
      },
      {
        "duration": 0,
        "start_time": "2022-07-29T22:16:02.045Z"
      },
      {
        "duration": 0,
        "start_time": "2022-07-29T22:16:02.046Z"
      },
      {
        "duration": 0,
        "start_time": "2022-07-29T22:16:02.048Z"
      },
      {
        "duration": 0,
        "start_time": "2022-07-29T22:16:02.049Z"
      },
      {
        "duration": 0,
        "start_time": "2022-07-29T22:16:02.050Z"
      },
      {
        "duration": 0,
        "start_time": "2022-07-29T22:16:02.051Z"
      },
      {
        "duration": 0,
        "start_time": "2022-07-29T22:16:02.052Z"
      },
      {
        "duration": 0,
        "start_time": "2022-07-29T22:16:02.053Z"
      },
      {
        "duration": 0,
        "start_time": "2022-07-29T22:16:02.054Z"
      },
      {
        "duration": 2,
        "start_time": "2022-07-29T22:16:17.801Z"
      },
      {
        "duration": 162,
        "start_time": "2022-07-29T22:16:17.808Z"
      },
      {
        "duration": 123,
        "start_time": "2022-07-29T22:16:17.972Z"
      },
      {
        "duration": 9,
        "start_time": "2022-07-29T22:16:18.097Z"
      },
      {
        "duration": 38,
        "start_time": "2022-07-29T22:16:18.108Z"
      },
      {
        "duration": 3,
        "start_time": "2022-07-29T22:16:18.148Z"
      },
      {
        "duration": 11,
        "start_time": "2022-07-29T22:16:18.152Z"
      },
      {
        "duration": 8,
        "start_time": "2022-07-29T22:16:18.165Z"
      },
      {
        "duration": 34,
        "start_time": "2022-07-29T22:16:18.174Z"
      },
      {
        "duration": 23,
        "start_time": "2022-07-29T22:16:18.210Z"
      },
      {
        "duration": 22,
        "start_time": "2022-07-29T22:16:18.235Z"
      },
      {
        "duration": 68,
        "start_time": "2022-07-29T22:16:18.259Z"
      },
      {
        "duration": 63,
        "start_time": "2022-07-29T22:16:18.328Z"
      },
      {
        "duration": 72,
        "start_time": "2022-07-29T22:16:18.392Z"
      },
      {
        "duration": 2,
        "start_time": "2022-07-29T22:16:18.467Z"
      },
      {
        "duration": 6,
        "start_time": "2022-07-29T22:16:18.470Z"
      },
      {
        "duration": 9,
        "start_time": "2022-07-29T22:16:18.478Z"
      },
      {
        "duration": 5,
        "start_time": "2022-07-29T22:16:18.489Z"
      },
      {
        "duration": 6,
        "start_time": "2022-07-29T22:16:18.495Z"
      },
      {
        "duration": 5,
        "start_time": "2022-07-29T22:16:18.503Z"
      },
      {
        "duration": 11,
        "start_time": "2022-07-29T22:16:18.509Z"
      },
      {
        "duration": 12,
        "start_time": "2022-07-29T22:16:18.523Z"
      },
      {
        "duration": 9,
        "start_time": "2022-07-29T22:16:18.536Z"
      },
      {
        "duration": 6,
        "start_time": "2022-07-29T22:16:18.546Z"
      },
      {
        "duration": 9,
        "start_time": "2022-07-29T22:16:18.554Z"
      },
      {
        "duration": 7,
        "start_time": "2022-07-29T22:16:18.565Z"
      },
      {
        "duration": 7,
        "start_time": "2022-07-29T22:16:18.573Z"
      },
      {
        "duration": 7,
        "start_time": "2022-07-29T22:16:18.582Z"
      },
      {
        "duration": 6,
        "start_time": "2022-07-29T22:16:18.590Z"
      },
      {
        "duration": 5,
        "start_time": "2022-07-29T22:16:18.597Z"
      },
      {
        "duration": 108,
        "start_time": "2022-07-29T22:16:18.604Z"
      },
      {
        "duration": 0,
        "start_time": "2022-07-29T22:16:18.713Z"
      },
      {
        "duration": 0,
        "start_time": "2022-07-29T22:16:18.716Z"
      },
      {
        "duration": 0,
        "start_time": "2022-07-29T22:16:18.717Z"
      },
      {
        "duration": 1,
        "start_time": "2022-07-29T22:16:18.718Z"
      },
      {
        "duration": 0,
        "start_time": "2022-07-29T22:16:18.720Z"
      },
      {
        "duration": 0,
        "start_time": "2022-07-29T22:16:18.721Z"
      },
      {
        "duration": 0,
        "start_time": "2022-07-29T22:16:18.722Z"
      },
      {
        "duration": 0,
        "start_time": "2022-07-29T22:16:18.723Z"
      },
      {
        "duration": 8,
        "start_time": "2022-07-29T22:27:05.033Z"
      },
      {
        "duration": 4,
        "start_time": "2022-07-29T22:27:06.358Z"
      },
      {
        "duration": 22,
        "start_time": "2022-07-29T22:27:07.013Z"
      },
      {
        "duration": 1295,
        "start_time": "2022-07-29T22:27:07.613Z"
      },
      {
        "duration": 0,
        "start_time": "2022-07-29T22:27:08.909Z"
      },
      {
        "duration": 0,
        "start_time": "2022-07-29T22:27:08.911Z"
      },
      {
        "duration": 61,
        "start_time": "2022-07-29T22:27:09.013Z"
      },
      {
        "duration": 53,
        "start_time": "2022-07-29T22:27:09.417Z"
      },
      {
        "duration": 7,
        "start_time": "2022-07-29T22:27:10.586Z"
      },
      {
        "duration": 7,
        "start_time": "2022-07-29T22:27:36.552Z"
      },
      {
        "duration": 88,
        "start_time": "2022-07-29T22:27:46.814Z"
      },
      {
        "duration": 83,
        "start_time": "2022-07-29T22:28:00.913Z"
      },
      {
        "duration": 9,
        "start_time": "2022-07-29T22:28:09.330Z"
      },
      {
        "duration": 88,
        "start_time": "2022-07-29T22:28:20.125Z"
      },
      {
        "duration": 11,
        "start_time": "2022-07-29T22:28:34.113Z"
      },
      {
        "duration": 78,
        "start_time": "2022-07-29T22:28:38.394Z"
      },
      {
        "duration": 6,
        "start_time": "2022-07-29T22:28:46.123Z"
      },
      {
        "duration": 10,
        "start_time": "2022-07-29T22:28:51.772Z"
      },
      {
        "duration": 12,
        "start_time": "2022-07-29T22:28:57.271Z"
      },
      {
        "duration": 7,
        "start_time": "2022-07-29T22:29:04.113Z"
      },
      {
        "duration": 7,
        "start_time": "2022-07-29T22:29:13.078Z"
      },
      {
        "duration": 9,
        "start_time": "2022-07-29T22:29:17.994Z"
      },
      {
        "duration": 11,
        "start_time": "2022-07-29T22:30:58.313Z"
      },
      {
        "duration": 11,
        "start_time": "2022-07-29T22:31:06.339Z"
      },
      {
        "duration": 6,
        "start_time": "2022-07-29T22:31:26.275Z"
      },
      {
        "duration": 14,
        "start_time": "2022-07-29T22:32:22.553Z"
      },
      {
        "duration": 13,
        "start_time": "2022-07-29T22:32:44.961Z"
      },
      {
        "duration": 43,
        "start_time": "2022-07-30T22:54:00.341Z"
      },
      {
        "duration": 340,
        "start_time": "2022-07-30T22:54:10.926Z"
      },
      {
        "duration": 220,
        "start_time": "2022-07-30T22:54:11.273Z"
      },
      {
        "duration": 143,
        "start_time": "2022-07-30T22:54:11.495Z"
      },
      {
        "duration": 9,
        "start_time": "2022-07-30T22:54:11.639Z"
      },
      {
        "duration": 33,
        "start_time": "2022-07-30T22:54:11.650Z"
      },
      {
        "duration": 3,
        "start_time": "2022-07-30T22:54:11.685Z"
      },
      {
        "duration": 16,
        "start_time": "2022-07-30T22:54:11.689Z"
      },
      {
        "duration": 11,
        "start_time": "2022-07-30T22:54:11.706Z"
      },
      {
        "duration": 22,
        "start_time": "2022-07-30T22:54:11.719Z"
      },
      {
        "duration": 1251,
        "start_time": "2022-07-30T22:54:11.742Z"
      },
      {
        "duration": 0,
        "start_time": "2022-07-30T22:54:12.995Z"
      },
      {
        "duration": 0,
        "start_time": "2022-07-30T22:54:12.997Z"
      },
      {
        "duration": 0,
        "start_time": "2022-07-30T22:54:12.998Z"
      },
      {
        "duration": 0,
        "start_time": "2022-07-30T22:54:12.999Z"
      },
      {
        "duration": 0,
        "start_time": "2022-07-30T22:54:13.000Z"
      },
      {
        "duration": 0,
        "start_time": "2022-07-30T22:54:13.001Z"
      },
      {
        "duration": 0,
        "start_time": "2022-07-30T22:54:13.002Z"
      },
      {
        "duration": 0,
        "start_time": "2022-07-30T22:54:13.003Z"
      },
      {
        "duration": 0,
        "start_time": "2022-07-30T22:54:13.004Z"
      },
      {
        "duration": 0,
        "start_time": "2022-07-30T22:54:13.005Z"
      },
      {
        "duration": 0,
        "start_time": "2022-07-30T22:54:13.006Z"
      },
      {
        "duration": 0,
        "start_time": "2022-07-30T22:54:13.007Z"
      },
      {
        "duration": 0,
        "start_time": "2022-07-30T22:54:13.008Z"
      },
      {
        "duration": 1,
        "start_time": "2022-07-30T22:54:13.008Z"
      },
      {
        "duration": 0,
        "start_time": "2022-07-30T22:54:13.009Z"
      },
      {
        "duration": 0,
        "start_time": "2022-07-30T22:54:13.010Z"
      },
      {
        "duration": 0,
        "start_time": "2022-07-30T22:54:13.011Z"
      },
      {
        "duration": 0,
        "start_time": "2022-07-30T22:54:13.012Z"
      },
      {
        "duration": 0,
        "start_time": "2022-07-30T22:54:13.013Z"
      },
      {
        "duration": 0,
        "start_time": "2022-07-30T22:54:13.014Z"
      },
      {
        "duration": 0,
        "start_time": "2022-07-30T22:54:13.015Z"
      },
      {
        "duration": 0,
        "start_time": "2022-07-30T22:54:13.016Z"
      },
      {
        "duration": 0,
        "start_time": "2022-07-30T22:54:13.017Z"
      },
      {
        "duration": 0,
        "start_time": "2022-07-30T22:54:13.018Z"
      },
      {
        "duration": 0,
        "start_time": "2022-07-30T22:54:13.019Z"
      },
      {
        "duration": 0,
        "start_time": "2022-07-30T22:54:13.019Z"
      },
      {
        "duration": 0,
        "start_time": "2022-07-30T22:54:13.020Z"
      },
      {
        "duration": 0,
        "start_time": "2022-07-30T22:54:13.021Z"
      },
      {
        "duration": 0,
        "start_time": "2022-07-30T22:54:13.022Z"
      },
      {
        "duration": 19,
        "start_time": "2022-07-30T22:55:01.902Z"
      },
      {
        "duration": 22,
        "start_time": "2022-07-30T22:55:04.551Z"
      },
      {
        "duration": 57,
        "start_time": "2022-07-30T22:55:09.739Z"
      },
      {
        "duration": 69,
        "start_time": "2022-07-30T22:55:10.108Z"
      },
      {
        "duration": 51,
        "start_time": "2022-07-30T22:55:11.735Z"
      },
      {
        "duration": 12,
        "start_time": "2022-07-30T22:55:15.251Z"
      },
      {
        "duration": 5,
        "start_time": "2022-07-30T22:55:17.073Z"
      },
      {
        "duration": 4,
        "start_time": "2022-07-30T22:55:39.850Z"
      },
      {
        "duration": 144,
        "start_time": "2022-07-30T23:08:29.804Z"
      },
      {
        "duration": 104,
        "start_time": "2022-07-30T23:08:53.142Z"
      },
      {
        "duration": 79,
        "start_time": "2022-07-30T23:10:07.245Z"
      },
      {
        "duration": 92,
        "start_time": "2022-07-30T23:10:24.947Z"
      },
      {
        "duration": 106,
        "start_time": "2022-07-30T23:11:54.140Z"
      },
      {
        "duration": 74,
        "start_time": "2022-07-30T23:12:06.165Z"
      },
      {
        "duration": 3,
        "start_time": "2022-07-30T23:12:12.953Z"
      },
      {
        "duration": 7,
        "start_time": "2022-07-30T23:12:40.744Z"
      },
      {
        "duration": 7,
        "start_time": "2022-07-30T23:13:06.996Z"
      },
      {
        "duration": 7,
        "start_time": "2022-07-30T23:14:00.748Z"
      },
      {
        "duration": 7,
        "start_time": "2022-07-30T23:14:21.614Z"
      },
      {
        "duration": 7,
        "start_time": "2022-07-30T23:14:36.860Z"
      },
      {
        "duration": 7,
        "start_time": "2022-07-30T23:15:18.680Z"
      },
      {
        "duration": 7,
        "start_time": "2022-07-30T23:15:45.984Z"
      },
      {
        "duration": 6,
        "start_time": "2022-07-30T23:15:56.649Z"
      },
      {
        "duration": 7,
        "start_time": "2022-07-30T23:16:53.280Z"
      },
      {
        "duration": 6,
        "start_time": "2022-07-30T23:19:34.609Z"
      },
      {
        "duration": 93,
        "start_time": "2022-07-30T23:19:39.804Z"
      },
      {
        "duration": 6,
        "start_time": "2022-07-30T23:19:48.524Z"
      },
      {
        "duration": 7,
        "start_time": "2022-07-30T23:20:01.000Z"
      },
      {
        "duration": 9,
        "start_time": "2022-07-30T23:20:58.466Z"
      },
      {
        "duration": 6,
        "start_time": "2022-07-30T23:21:11.936Z"
      },
      {
        "duration": 7,
        "start_time": "2022-07-30T23:21:30.406Z"
      },
      {
        "duration": 7,
        "start_time": "2022-07-30T23:21:40.410Z"
      },
      {
        "duration": 6,
        "start_time": "2022-07-30T23:22:00.038Z"
      },
      {
        "duration": 6,
        "start_time": "2022-07-30T23:22:24.788Z"
      },
      {
        "duration": 8,
        "start_time": "2022-07-30T23:24:24.052Z"
      },
      {
        "duration": 43,
        "start_time": "2022-07-31T23:06:55.193Z"
      },
      {
        "duration": 379,
        "start_time": "2022-07-31T23:06:59.092Z"
      },
      {
        "duration": 246,
        "start_time": "2022-07-31T23:06:59.473Z"
      },
      {
        "duration": 117,
        "start_time": "2022-07-31T23:06:59.720Z"
      },
      {
        "duration": 9,
        "start_time": "2022-07-31T23:06:59.839Z"
      },
      {
        "duration": 48,
        "start_time": "2022-07-31T23:06:59.850Z"
      },
      {
        "duration": 10,
        "start_time": "2022-07-31T23:06:59.901Z"
      },
      {
        "duration": 25,
        "start_time": "2022-07-31T23:06:59.912Z"
      },
      {
        "duration": 9,
        "start_time": "2022-07-31T23:06:59.939Z"
      },
      {
        "duration": 46,
        "start_time": "2022-07-31T23:06:59.950Z"
      },
      {
        "duration": 26,
        "start_time": "2022-07-31T23:07:00.000Z"
      },
      {
        "duration": 42,
        "start_time": "2022-07-31T23:07:00.028Z"
      },
      {
        "duration": 73,
        "start_time": "2022-07-31T23:07:00.126Z"
      },
      {
        "duration": 80,
        "start_time": "2022-07-31T23:07:00.202Z"
      },
      {
        "duration": 57,
        "start_time": "2022-07-31T23:07:00.287Z"
      },
      {
        "duration": 12,
        "start_time": "2022-07-31T23:07:00.345Z"
      },
      {
        "duration": 54,
        "start_time": "2022-07-31T23:07:00.359Z"
      },
      {
        "duration": 12,
        "start_time": "2022-07-31T23:07:00.414Z"
      },
      {
        "duration": 25,
        "start_time": "2022-07-31T23:07:00.428Z"
      },
      {
        "duration": 19,
        "start_time": "2022-07-31T23:07:00.455Z"
      },
      {
        "duration": 28,
        "start_time": "2022-07-31T23:07:00.476Z"
      },
      {
        "duration": 24,
        "start_time": "2022-07-31T23:07:00.505Z"
      },
      {
        "duration": 16,
        "start_time": "2022-07-31T23:07:00.531Z"
      },
      {
        "duration": 52,
        "start_time": "2022-07-31T23:07:00.548Z"
      },
      {
        "duration": 15,
        "start_time": "2022-07-31T23:07:00.603Z"
      },
      {
        "duration": 20,
        "start_time": "2022-07-31T23:07:00.619Z"
      },
      {
        "duration": 11,
        "start_time": "2022-07-31T23:07:00.640Z"
      },
      {
        "duration": 52,
        "start_time": "2022-07-31T23:07:00.653Z"
      },
      {
        "duration": 11,
        "start_time": "2022-07-31T23:07:00.707Z"
      },
      {
        "duration": 7,
        "start_time": "2022-07-31T23:07:00.720Z"
      },
      {
        "duration": 5,
        "start_time": "2022-07-31T23:07:00.729Z"
      },
      {
        "duration": 87,
        "start_time": "2022-07-31T23:07:00.736Z"
      },
      {
        "duration": 0,
        "start_time": "2022-07-31T23:07:00.825Z"
      },
      {
        "duration": 0,
        "start_time": "2022-07-31T23:07:00.826Z"
      },
      {
        "duration": 0,
        "start_time": "2022-07-31T23:07:00.827Z"
      },
      {
        "duration": 0,
        "start_time": "2022-07-31T23:07:00.828Z"
      },
      {
        "duration": 0,
        "start_time": "2022-07-31T23:07:00.829Z"
      },
      {
        "duration": 0,
        "start_time": "2022-07-31T23:07:00.830Z"
      },
      {
        "duration": 0,
        "start_time": "2022-07-31T23:07:00.831Z"
      },
      {
        "duration": 0,
        "start_time": "2022-07-31T23:07:00.832Z"
      },
      {
        "duration": 8,
        "start_time": "2022-07-31T23:07:31.661Z"
      },
      {
        "duration": 6,
        "start_time": "2022-07-31T23:08:10.117Z"
      },
      {
        "duration": 7,
        "start_time": "2022-07-31T23:09:03.656Z"
      },
      {
        "duration": 12,
        "start_time": "2022-07-31T23:12:25.475Z"
      },
      {
        "duration": 75,
        "start_time": "2022-07-31T23:25:57.126Z"
      },
      {
        "duration": 25,
        "start_time": "2022-07-31T23:26:05.393Z"
      },
      {
        "duration": 9,
        "start_time": "2022-07-31T23:26:17.548Z"
      },
      {
        "duration": 9,
        "start_time": "2022-07-31T23:26:41.120Z"
      },
      {
        "duration": 12,
        "start_time": "2022-07-31T23:27:03.679Z"
      },
      {
        "duration": 6,
        "start_time": "2022-07-31T23:27:37.427Z"
      },
      {
        "duration": 7,
        "start_time": "2022-07-31T23:27:45.493Z"
      },
      {
        "duration": 9,
        "start_time": "2022-07-31T23:28:03.634Z"
      },
      {
        "duration": 6,
        "start_time": "2022-07-31T23:28:12.629Z"
      },
      {
        "duration": 3,
        "start_time": "2022-07-31T23:28:21.713Z"
      },
      {
        "duration": 6,
        "start_time": "2022-07-31T23:28:25.199Z"
      },
      {
        "duration": 8,
        "start_time": "2022-07-31T23:28:43.015Z"
      },
      {
        "duration": 4,
        "start_time": "2022-07-31T23:38:46.487Z"
      },
      {
        "duration": 3,
        "start_time": "2022-07-31T23:39:02.594Z"
      },
      {
        "duration": 27,
        "start_time": "2022-07-31T23:39:21.760Z"
      },
      {
        "duration": 7,
        "start_time": "2022-07-31T23:42:50.799Z"
      },
      {
        "duration": 11,
        "start_time": "2022-07-31T23:42:58.685Z"
      },
      {
        "duration": 8,
        "start_time": "2022-07-31T23:43:04.574Z"
      },
      {
        "duration": 10,
        "start_time": "2022-07-31T23:53:49.734Z"
      },
      {
        "duration": 89,
        "start_time": "2022-08-01T00:11:34.274Z"
      },
      {
        "duration": 9,
        "start_time": "2022-08-01T00:11:49.257Z"
      },
      {
        "duration": 8,
        "start_time": "2022-08-01T00:11:53.731Z"
      },
      {
        "duration": 11,
        "start_time": "2022-08-01T00:12:09.321Z"
      },
      {
        "duration": 8,
        "start_time": "2022-08-01T00:12:47.785Z"
      },
      {
        "duration": 10,
        "start_time": "2022-08-01T00:13:39.752Z"
      },
      {
        "duration": 9,
        "start_time": "2022-08-01T00:13:55.455Z"
      },
      {
        "duration": 75,
        "start_time": "2022-08-01T00:51:06.290Z"
      },
      {
        "duration": 78,
        "start_time": "2022-08-01T00:51:15.530Z"
      },
      {
        "duration": 90,
        "start_time": "2022-08-01T00:51:21.059Z"
      },
      {
        "duration": 75,
        "start_time": "2022-08-01T00:51:35.093Z"
      },
      {
        "duration": 7,
        "start_time": "2022-08-01T00:51:43.986Z"
      },
      {
        "duration": 8,
        "start_time": "2022-08-01T00:52:06.329Z"
      },
      {
        "duration": 1421,
        "start_time": "2022-08-01T00:52:21.759Z"
      },
      {
        "duration": 3,
        "start_time": "2022-08-01T00:53:10.214Z"
      },
      {
        "duration": 4,
        "start_time": "2022-08-01T00:53:23.212Z"
      },
      {
        "duration": 1240,
        "start_time": "2022-08-01T00:53:36.693Z"
      },
      {
        "duration": 24,
        "start_time": "2022-08-01T00:53:55.193Z"
      },
      {
        "duration": 22,
        "start_time": "2022-08-01T00:55:28.083Z"
      },
      {
        "duration": 11,
        "start_time": "2022-08-01T00:56:46.050Z"
      },
      {
        "duration": 8,
        "start_time": "2022-08-01T00:56:51.803Z"
      },
      {
        "duration": 84,
        "start_time": "2022-08-01T01:06:10.955Z"
      },
      {
        "duration": 8,
        "start_time": "2022-08-01T01:07:05.703Z"
      },
      {
        "duration": 373,
        "start_time": "2022-08-01T21:56:06.963Z"
      },
      {
        "duration": 215,
        "start_time": "2022-08-01T21:56:07.337Z"
      },
      {
        "duration": 124,
        "start_time": "2022-08-01T21:56:07.553Z"
      },
      {
        "duration": 10,
        "start_time": "2022-08-01T21:56:07.678Z"
      },
      {
        "duration": 30,
        "start_time": "2022-08-01T21:56:07.689Z"
      },
      {
        "duration": 4,
        "start_time": "2022-08-01T21:56:07.736Z"
      },
      {
        "duration": 13,
        "start_time": "2022-08-01T21:56:07.741Z"
      },
      {
        "duration": 9,
        "start_time": "2022-08-01T21:56:07.755Z"
      },
      {
        "duration": 27,
        "start_time": "2022-08-01T21:56:07.765Z"
      },
      {
        "duration": 15,
        "start_time": "2022-08-01T21:56:07.794Z"
      },
      {
        "duration": 45,
        "start_time": "2022-08-01T21:56:07.811Z"
      },
      {
        "duration": 61,
        "start_time": "2022-08-01T21:56:07.858Z"
      },
      {
        "duration": 82,
        "start_time": "2022-08-01T21:56:07.920Z"
      },
      {
        "duration": 63,
        "start_time": "2022-08-01T21:56:08.004Z"
      },
      {
        "duration": 13,
        "start_time": "2022-08-01T21:56:08.068Z"
      },
      {
        "duration": 9,
        "start_time": "2022-08-01T21:56:08.083Z"
      },
      {
        "duration": 19,
        "start_time": "2022-08-01T21:56:08.093Z"
      },
      {
        "duration": 9,
        "start_time": "2022-08-01T21:56:08.114Z"
      },
      {
        "duration": 17,
        "start_time": "2022-08-01T21:56:08.124Z"
      },
      {
        "duration": 9,
        "start_time": "2022-08-01T21:56:08.143Z"
      },
      {
        "duration": 19,
        "start_time": "2022-08-01T22:00:49.481Z"
      },
      {
        "duration": 78,
        "start_time": "2022-08-01T22:02:36.683Z"
      },
      {
        "duration": 24,
        "start_time": "2022-08-01T22:03:05.719Z"
      },
      {
        "duration": 29,
        "start_time": "2022-08-01T22:03:18.975Z"
      },
      {
        "duration": 24,
        "start_time": "2022-08-01T22:03:46.091Z"
      },
      {
        "duration": 24,
        "start_time": "2022-08-01T22:03:59.141Z"
      },
      {
        "duration": 30,
        "start_time": "2022-08-01T22:04:56.262Z"
      },
      {
        "duration": 23,
        "start_time": "2022-08-01T22:05:05.279Z"
      },
      {
        "duration": 1944,
        "start_time": "2022-08-01T22:05:18.608Z"
      },
      {
        "duration": 17,
        "start_time": "2022-08-01T22:05:30.755Z"
      },
      {
        "duration": 587,
        "start_time": "2022-08-01T22:09:53.091Z"
      },
      {
        "duration": 91,
        "start_time": "2022-08-01T22:10:34.696Z"
      },
      {
        "duration": 542,
        "start_time": "2022-08-01T22:10:45.165Z"
      },
      {
        "duration": 472,
        "start_time": "2022-08-01T22:11:12.942Z"
      },
      {
        "duration": 18,
        "start_time": "2022-08-01T22:17:03.229Z"
      },
      {
        "duration": 22,
        "start_time": "2022-08-01T22:17:07.182Z"
      },
      {
        "duration": 22,
        "start_time": "2022-08-01T22:17:20.415Z"
      },
      {
        "duration": 3,
        "start_time": "2022-08-01T22:17:27.019Z"
      },
      {
        "duration": 165,
        "start_time": "2022-08-01T22:17:27.026Z"
      },
      {
        "duration": 116,
        "start_time": "2022-08-01T22:17:27.193Z"
      },
      {
        "duration": 10,
        "start_time": "2022-08-01T22:17:27.310Z"
      },
      {
        "duration": 27,
        "start_time": "2022-08-01T22:17:27.336Z"
      },
      {
        "duration": 3,
        "start_time": "2022-08-01T22:17:27.365Z"
      },
      {
        "duration": 9,
        "start_time": "2022-08-01T22:17:27.370Z"
      },
      {
        "duration": 4,
        "start_time": "2022-08-01T22:17:27.380Z"
      },
      {
        "duration": 26,
        "start_time": "2022-08-01T22:17:27.386Z"
      },
      {
        "duration": 15,
        "start_time": "2022-08-01T22:17:27.436Z"
      },
      {
        "duration": 28,
        "start_time": "2022-08-01T22:17:27.452Z"
      },
      {
        "duration": 55,
        "start_time": "2022-08-01T22:17:27.594Z"
      },
      {
        "duration": 66,
        "start_time": "2022-08-01T22:17:27.651Z"
      },
      {
        "duration": 61,
        "start_time": "2022-08-01T22:17:27.719Z"
      },
      {
        "duration": 14,
        "start_time": "2022-08-01T22:17:27.782Z"
      },
      {
        "duration": 10,
        "start_time": "2022-08-01T22:17:27.798Z"
      },
      {
        "duration": 22,
        "start_time": "2022-08-01T22:17:27.809Z"
      },
      {
        "duration": 7,
        "start_time": "2022-08-01T22:17:27.878Z"
      },
      {
        "duration": 11,
        "start_time": "2022-08-01T22:17:27.887Z"
      },
      {
        "duration": 10,
        "start_time": "2022-08-01T22:17:27.899Z"
      },
      {
        "duration": 15,
        "start_time": "2022-08-01T22:17:27.910Z"
      },
      {
        "duration": 2,
        "start_time": "2022-08-01T22:17:28.002Z"
      },
      {
        "duration": 7,
        "start_time": "2022-08-01T22:17:28.005Z"
      },
      {
        "duration": 5,
        "start_time": "2022-08-01T22:17:28.014Z"
      },
      {
        "duration": 3,
        "start_time": "2022-08-01T22:17:28.164Z"
      },
      {
        "duration": 8,
        "start_time": "2022-08-01T22:17:28.169Z"
      },
      {
        "duration": 7,
        "start_time": "2022-08-01T22:17:28.178Z"
      },
      {
        "duration": 5,
        "start_time": "2022-08-01T22:17:28.186Z"
      },
      {
        "duration": 4,
        "start_time": "2022-08-01T22:17:28.192Z"
      },
      {
        "duration": 16,
        "start_time": "2022-08-01T22:17:28.198Z"
      },
      {
        "duration": 76,
        "start_time": "2022-08-01T22:17:28.349Z"
      },
      {
        "duration": 2,
        "start_time": "2022-08-01T22:17:28.456Z"
      },
      {
        "duration": 7,
        "start_time": "2022-08-01T22:17:28.460Z"
      },
      {
        "duration": 4,
        "start_time": "2022-08-01T22:17:28.469Z"
      },
      {
        "duration": 6,
        "start_time": "2022-08-01T22:17:28.474Z"
      },
      {
        "duration": 10,
        "start_time": "2022-08-01T22:17:28.481Z"
      },
      {
        "duration": 4,
        "start_time": "2022-08-01T22:17:28.492Z"
      },
      {
        "duration": 4,
        "start_time": "2022-08-01T22:17:28.498Z"
      },
      {
        "duration": 2,
        "start_time": "2022-08-01T22:17:28.628Z"
      },
      {
        "duration": 15,
        "start_time": "2022-08-01T22:21:29.102Z"
      },
      {
        "duration": 13,
        "start_time": "2022-08-01T22:21:47.700Z"
      },
      {
        "duration": 15,
        "start_time": "2022-08-01T22:22:16.696Z"
      },
      {
        "duration": 13,
        "start_time": "2022-08-01T22:22:57.749Z"
      },
      {
        "duration": 16,
        "start_time": "2022-08-01T22:23:00.119Z"
      },
      {
        "duration": 13,
        "start_time": "2022-08-01T22:23:10.132Z"
      },
      {
        "duration": 8,
        "start_time": "2022-08-01T22:23:41.704Z"
      },
      {
        "duration": 7,
        "start_time": "2022-08-01T22:23:58.752Z"
      },
      {
        "duration": 89,
        "start_time": "2022-08-01T22:24:16.981Z"
      },
      {
        "duration": 122,
        "start_time": "2022-08-01T22:24:24.883Z"
      },
      {
        "duration": 7,
        "start_time": "2022-08-01T22:24:32.624Z"
      },
      {
        "duration": 9,
        "start_time": "2022-08-01T22:28:33.609Z"
      },
      {
        "duration": 8,
        "start_time": "2022-08-01T22:29:02.763Z"
      },
      {
        "duration": 7,
        "start_time": "2022-08-01T22:29:13.349Z"
      },
      {
        "duration": 8,
        "start_time": "2022-08-01T22:29:22.513Z"
      },
      {
        "duration": 102,
        "start_time": "2022-08-01T22:30:29.108Z"
      },
      {
        "duration": 7,
        "start_time": "2022-08-01T22:30:36.867Z"
      },
      {
        "duration": 84,
        "start_time": "2022-08-01T22:30:46.442Z"
      },
      {
        "duration": 8,
        "start_time": "2022-08-01T22:30:52.565Z"
      },
      {
        "duration": 3,
        "start_time": "2022-08-01T22:31:10.078Z"
      },
      {
        "duration": 3,
        "start_time": "2022-08-01T22:31:17.999Z"
      },
      {
        "duration": 8,
        "start_time": "2022-08-01T22:31:25.065Z"
      },
      {
        "duration": 79,
        "start_time": "2022-08-01T22:31:37.149Z"
      },
      {
        "duration": 72,
        "start_time": "2022-08-01T22:31:43.767Z"
      },
      {
        "duration": 16,
        "start_time": "2022-08-01T22:31:55.769Z"
      },
      {
        "duration": 8,
        "start_time": "2022-08-01T22:37:31.980Z"
      },
      {
        "duration": 7,
        "start_time": "2022-08-01T22:38:04.129Z"
      },
      {
        "duration": 8,
        "start_time": "2022-08-01T22:48:55.193Z"
      },
      {
        "duration": 9,
        "start_time": "2022-08-01T22:49:37.135Z"
      },
      {
        "duration": 84,
        "start_time": "2022-08-01T23:04:07.767Z"
      },
      {
        "duration": 79,
        "start_time": "2022-08-01T23:04:24.389Z"
      },
      {
        "duration": 8,
        "start_time": "2022-08-01T23:04:40.555Z"
      },
      {
        "duration": 8,
        "start_time": "2022-08-01T23:04:46.766Z"
      },
      {
        "duration": 8,
        "start_time": "2022-08-01T23:04:57.733Z"
      },
      {
        "duration": 7,
        "start_time": "2022-08-01T23:05:06.467Z"
      },
      {
        "duration": 1318,
        "start_time": "2022-08-01T23:07:52.842Z"
      },
      {
        "duration": 1339,
        "start_time": "2022-08-01T23:08:31.736Z"
      },
      {
        "duration": 1315,
        "start_time": "2022-08-01T23:11:07.804Z"
      },
      {
        "duration": 1446,
        "start_time": "2022-08-01T23:11:15.348Z"
      },
      {
        "duration": 5,
        "start_time": "2022-08-01T23:12:27.930Z"
      },
      {
        "duration": 6,
        "start_time": "2022-08-01T23:13:10.315Z"
      },
      {
        "duration": 5,
        "start_time": "2022-08-01T23:13:15.841Z"
      },
      {
        "duration": 7,
        "start_time": "2022-08-01T23:13:28.976Z"
      },
      {
        "duration": 3,
        "start_time": "2022-08-01T23:13:52.549Z"
      },
      {
        "duration": 143,
        "start_time": "2022-08-01T23:13:52.556Z"
      },
      {
        "duration": 119,
        "start_time": "2022-08-01T23:13:52.700Z"
      },
      {
        "duration": 9,
        "start_time": "2022-08-01T23:13:52.820Z"
      },
      {
        "duration": 28,
        "start_time": "2022-08-01T23:13:52.836Z"
      },
      {
        "duration": 4,
        "start_time": "2022-08-01T23:13:52.865Z"
      },
      {
        "duration": 12,
        "start_time": "2022-08-01T23:13:52.871Z"
      },
      {
        "duration": 4,
        "start_time": "2022-08-01T23:13:52.885Z"
      },
      {
        "duration": 51,
        "start_time": "2022-08-01T23:13:52.891Z"
      },
      {
        "duration": 15,
        "start_time": "2022-08-01T23:13:52.944Z"
      },
      {
        "duration": 39,
        "start_time": "2022-08-01T23:13:52.961Z"
      },
      {
        "duration": 54,
        "start_time": "2022-08-01T23:13:53.140Z"
      },
      {
        "duration": 74,
        "start_time": "2022-08-01T23:13:53.196Z"
      },
      {
        "duration": 48,
        "start_time": "2022-08-01T23:13:53.271Z"
      },
      {
        "duration": 25,
        "start_time": "2022-08-01T23:13:53.321Z"
      },
      {
        "duration": 9,
        "start_time": "2022-08-01T23:13:53.348Z"
      },
      {
        "duration": 2,
        "start_time": "2022-08-01T23:13:53.359Z"
      },
      {
        "duration": 7,
        "start_time": "2022-08-01T23:13:53.363Z"
      },
      {
        "duration": 10,
        "start_time": "2022-08-01T23:13:53.447Z"
      },
      {
        "duration": 10,
        "start_time": "2022-08-01T23:13:53.458Z"
      },
      {
        "duration": 16,
        "start_time": "2022-08-01T23:13:53.470Z"
      },
      {
        "duration": 14,
        "start_time": "2022-08-01T23:13:53.487Z"
      },
      {
        "duration": 12,
        "start_time": "2022-08-01T23:13:53.503Z"
      },
      {
        "duration": 14,
        "start_time": "2022-08-01T23:13:53.536Z"
      },
      {
        "duration": 13,
        "start_time": "2022-08-01T23:13:53.740Z"
      },
      {
        "duration": 24,
        "start_time": "2022-08-01T23:13:53.755Z"
      },
      {
        "duration": 12,
        "start_time": "2022-08-01T23:13:53.781Z"
      },
      {
        "duration": 6,
        "start_time": "2022-08-01T23:13:58.302Z"
      },
      {
        "duration": 7,
        "start_time": "2022-08-01T23:14:01.597Z"
      },
      {
        "duration": 1375,
        "start_time": "2022-08-01T23:15:19.045Z"
      },
      {
        "duration": 1339,
        "start_time": "2022-08-01T23:15:31.898Z"
      },
      {
        "duration": 11,
        "start_time": "2022-08-01T23:16:17.717Z"
      },
      {
        "duration": 7,
        "start_time": "2022-08-01T23:18:01.953Z"
      },
      {
        "duration": 143,
        "start_time": "2022-08-01T23:19:09.177Z"
      },
      {
        "duration": 11,
        "start_time": "2022-08-01T23:19:18.870Z"
      },
      {
        "duration": 7,
        "start_time": "2022-08-01T23:19:32.457Z"
      },
      {
        "duration": 7,
        "start_time": "2022-08-01T23:19:36.415Z"
      },
      {
        "duration": 10,
        "start_time": "2022-08-01T23:21:42.407Z"
      },
      {
        "duration": 6,
        "start_time": "2022-08-01T23:23:27.190Z"
      },
      {
        "duration": 7,
        "start_time": "2022-08-01T23:23:42.019Z"
      },
      {
        "duration": 81,
        "start_time": "2022-08-01T23:25:00.390Z"
      },
      {
        "duration": 15,
        "start_time": "2022-08-01T23:25:09.301Z"
      },
      {
        "duration": 11,
        "start_time": "2022-08-01T23:26:14.013Z"
      },
      {
        "duration": 10,
        "start_time": "2022-08-01T23:26:31.059Z"
      },
      {
        "duration": 3,
        "start_time": "2022-08-01T23:26:37.973Z"
      },
      {
        "duration": 155,
        "start_time": "2022-08-01T23:26:37.978Z"
      },
      {
        "duration": 139,
        "start_time": "2022-08-01T23:26:38.136Z"
      },
      {
        "duration": 10,
        "start_time": "2022-08-01T23:26:38.276Z"
      },
      {
        "duration": 34,
        "start_time": "2022-08-01T23:26:38.288Z"
      },
      {
        "duration": 13,
        "start_time": "2022-08-01T23:26:38.324Z"
      },
      {
        "duration": 6,
        "start_time": "2022-08-01T23:26:38.339Z"
      },
      {
        "duration": 4,
        "start_time": "2022-08-01T23:26:38.347Z"
      },
      {
        "duration": 24,
        "start_time": "2022-08-01T23:26:38.353Z"
      },
      {
        "duration": 30,
        "start_time": "2022-08-01T23:26:38.379Z"
      },
      {
        "duration": 37,
        "start_time": "2022-08-01T23:26:38.411Z"
      },
      {
        "duration": 56,
        "start_time": "2022-08-01T23:26:38.633Z"
      },
      {
        "duration": 76,
        "start_time": "2022-08-01T23:26:38.691Z"
      },
      {
        "duration": 52,
        "start_time": "2022-08-01T23:26:38.769Z"
      },
      {
        "duration": 26,
        "start_time": "2022-08-01T23:26:38.822Z"
      },
      {
        "duration": 12,
        "start_time": "2022-08-01T23:26:38.850Z"
      },
      {
        "duration": 8,
        "start_time": "2022-08-01T23:26:38.864Z"
      },
      {
        "duration": 7,
        "start_time": "2022-08-01T23:26:38.939Z"
      },
      {
        "duration": 19,
        "start_time": "2022-08-01T23:26:38.949Z"
      },
      {
        "duration": 22,
        "start_time": "2022-08-01T23:26:38.970Z"
      },
      {
        "duration": 41,
        "start_time": "2022-08-01T23:26:38.995Z"
      },
      {
        "duration": 16,
        "start_time": "2022-08-01T23:26:39.039Z"
      },
      {
        "duration": 14,
        "start_time": "2022-08-01T23:26:39.057Z"
      },
      {
        "duration": 15,
        "start_time": "2022-08-01T23:26:39.246Z"
      },
      {
        "duration": 13,
        "start_time": "2022-08-01T23:26:39.263Z"
      },
      {
        "duration": 14,
        "start_time": "2022-08-01T23:26:39.278Z"
      },
      {
        "duration": 12,
        "start_time": "2022-08-01T23:26:39.294Z"
      },
      {
        "duration": 29,
        "start_time": "2022-08-01T23:26:39.308Z"
      },
      {
        "duration": 2,
        "start_time": "2022-08-01T23:26:39.339Z"
      },
      {
        "duration": 19,
        "start_time": "2022-08-01T23:26:39.342Z"
      },
      {
        "duration": 11,
        "start_time": "2022-08-01T23:26:43.321Z"
      },
      {
        "duration": 12,
        "start_time": "2022-08-01T23:27:01.673Z"
      },
      {
        "duration": 79,
        "start_time": "2022-08-02T00:43:23.539Z"
      },
      {
        "duration": 4,
        "start_time": "2022-08-02T00:43:41.479Z"
      },
      {
        "duration": 23,
        "start_time": "2022-08-02T00:44:23.906Z"
      },
      {
        "duration": 5,
        "start_time": "2022-08-02T00:45:02.848Z"
      },
      {
        "duration": 26,
        "start_time": "2022-08-02T00:45:17.130Z"
      },
      {
        "duration": 27,
        "start_time": "2022-08-02T00:45:36.629Z"
      },
      {
        "duration": 23,
        "start_time": "2022-08-02T00:45:53.463Z"
      },
      {
        "duration": 23,
        "start_time": "2022-08-02T00:48:01.786Z"
      },
      {
        "duration": 5,
        "start_time": "2022-08-02T00:51:51.805Z"
      },
      {
        "duration": 3712,
        "start_time": "2022-08-02T00:52:16.104Z"
      },
      {
        "duration": 3712,
        "start_time": "2022-08-02T00:52:49.840Z"
      },
      {
        "duration": 3736,
        "start_time": "2022-08-02T00:53:06.016Z"
      },
      {
        "duration": 3762,
        "start_time": "2022-08-02T00:53:27.936Z"
      },
      {
        "duration": 3695,
        "start_time": "2022-08-02T00:54:19.133Z"
      },
      {
        "duration": 3705,
        "start_time": "2022-08-02T00:55:31.609Z"
      },
      {
        "duration": 3700,
        "start_time": "2022-08-02T00:56:39.452Z"
      },
      {
        "duration": 3696,
        "start_time": "2022-08-02T00:56:56.482Z"
      },
      {
        "duration": 3721,
        "start_time": "2022-08-02T00:57:27.991Z"
      },
      {
        "duration": 3750,
        "start_time": "2022-08-02T00:57:37.297Z"
      },
      {
        "duration": 3712,
        "start_time": "2022-08-02T00:57:57.732Z"
      },
      {
        "duration": 3747,
        "start_time": "2022-08-02T00:58:06.014Z"
      },
      {
        "duration": 3685,
        "start_time": "2022-08-02T00:58:54.681Z"
      },
      {
        "duration": 3693,
        "start_time": "2022-08-02T00:59:12.572Z"
      },
      {
        "duration": 3758,
        "start_time": "2022-08-02T01:00:38.713Z"
      },
      {
        "duration": 9,
        "start_time": "2022-08-02T01:00:53.802Z"
      },
      {
        "duration": 3665,
        "start_time": "2022-08-02T01:01:00.223Z"
      },
      {
        "duration": 3680,
        "start_time": "2022-08-02T01:01:16.811Z"
      },
      {
        "duration": 112,
        "start_time": "2022-08-02T01:02:28.017Z"
      },
      {
        "duration": 152,
        "start_time": "2022-08-02T01:02:44.980Z"
      },
      {
        "duration": 78,
        "start_time": "2022-08-02T01:02:56.812Z"
      },
      {
        "duration": 3676,
        "start_time": "2022-08-02T01:03:00.435Z"
      },
      {
        "duration": 3802,
        "start_time": "2022-08-02T01:03:22.817Z"
      },
      {
        "duration": 3731,
        "start_time": "2022-08-02T01:06:40.643Z"
      },
      {
        "duration": 85,
        "start_time": "2022-08-02T01:07:46.858Z"
      },
      {
        "duration": 3730,
        "start_time": "2022-08-02T01:07:53.154Z"
      },
      {
        "duration": 3719,
        "start_time": "2022-08-02T01:08:59.506Z"
      },
      {
        "duration": 3718,
        "start_time": "2022-08-02T01:09:19.278Z"
      },
      {
        "duration": 3658,
        "start_time": "2022-08-02T01:10:10.590Z"
      },
      {
        "duration": 3699,
        "start_time": "2022-08-02T01:10:19.460Z"
      },
      {
        "duration": 3733,
        "start_time": "2022-08-02T01:10:28.994Z"
      },
      {
        "duration": 3660,
        "start_time": "2022-08-02T01:11:03.657Z"
      },
      {
        "duration": 3712,
        "start_time": "2022-08-02T01:11:51.369Z"
      },
      {
        "duration": 0,
        "start_time": "2022-08-02T01:17:52.541Z"
      },
      {
        "duration": 3719,
        "start_time": "2022-08-02T01:18:04.601Z"
      },
      {
        "duration": 3672,
        "start_time": "2022-08-02T01:18:51.408Z"
      },
      {
        "duration": 3778,
        "start_time": "2022-08-02T01:21:06.859Z"
      },
      {
        "duration": 3654,
        "start_time": "2022-08-02T01:22:05.005Z"
      },
      {
        "duration": 21,
        "start_time": "2022-08-02T02:44:33.630Z"
      },
      {
        "duration": 1361,
        "start_time": "2022-08-02T02:46:10.516Z"
      },
      {
        "duration": 7,
        "start_time": "2022-08-02T03:12:46.579Z"
      },
      {
        "duration": 3670,
        "start_time": "2022-08-02T03:14:20.942Z"
      },
      {
        "duration": 3859,
        "start_time": "2022-08-02T03:14:41.482Z"
      },
      {
        "duration": 3854,
        "start_time": "2022-08-02T03:15:10.228Z"
      },
      {
        "duration": 8,
        "start_time": "2022-08-02T03:16:54.788Z"
      },
      {
        "duration": 1197,
        "start_time": "2022-08-02T03:23:56.483Z"
      },
      {
        "duration": 3848,
        "start_time": "2022-08-02T03:24:20.641Z"
      },
      {
        "duration": 3842,
        "start_time": "2022-08-02T03:24:46.903Z"
      },
      {
        "duration": 1247,
        "start_time": "2022-08-02T03:25:08.217Z"
      },
      {
        "duration": 3773,
        "start_time": "2022-08-02T03:25:29.620Z"
      },
      {
        "duration": 7,
        "start_time": "2022-08-02T03:41:54.602Z"
      },
      {
        "duration": 82,
        "start_time": "2022-08-02T03:42:02.402Z"
      },
      {
        "duration": 3713,
        "start_time": "2022-08-02T03:42:19.866Z"
      },
      {
        "duration": 3726,
        "start_time": "2022-08-02T03:42:29.602Z"
      },
      {
        "duration": 3706,
        "start_time": "2022-08-02T03:58:03.962Z"
      },
      {
        "duration": 3742,
        "start_time": "2022-08-02T04:05:43.043Z"
      },
      {
        "duration": 81,
        "start_time": "2022-08-02T04:05:58.426Z"
      },
      {
        "duration": 2580,
        "start_time": "2022-08-02T04:06:30.060Z"
      },
      {
        "duration": 3757,
        "start_time": "2022-08-02T04:06:33.818Z"
      },
      {
        "duration": 1133,
        "start_time": "2022-08-02T04:07:05.980Z"
      },
      {
        "duration": 2606,
        "start_time": "2022-08-02T04:07:41.859Z"
      },
      {
        "duration": 1114,
        "start_time": "2022-08-02T04:07:56.858Z"
      },
      {
        "duration": 26,
        "start_time": "2022-08-02T04:15:08.532Z"
      },
      {
        "duration": 25,
        "start_time": "2022-08-02T04:17:16.452Z"
      },
      {
        "duration": 23,
        "start_time": "2022-08-02T04:17:34.600Z"
      },
      {
        "duration": 6,
        "start_time": "2022-08-02T04:17:56.546Z"
      },
      {
        "duration": 15,
        "start_time": "2022-08-02T04:19:09.763Z"
      },
      {
        "duration": 5,
        "start_time": "2022-08-02T04:19:12.300Z"
      },
      {
        "duration": 3713,
        "start_time": "2022-08-02T04:20:19.280Z"
      },
      {
        "duration": 2,
        "start_time": "2022-08-02T04:22:30.412Z"
      },
      {
        "duration": 172,
        "start_time": "2022-08-02T04:22:30.416Z"
      },
      {
        "duration": 149,
        "start_time": "2022-08-02T04:22:30.590Z"
      },
      {
        "duration": 10,
        "start_time": "2022-08-02T04:22:30.740Z"
      },
      {
        "duration": 32,
        "start_time": "2022-08-02T04:22:30.752Z"
      },
      {
        "duration": 4,
        "start_time": "2022-08-02T04:22:30.785Z"
      },
      {
        "duration": 16,
        "start_time": "2022-08-02T04:22:30.790Z"
      },
      {
        "duration": 12,
        "start_time": "2022-08-02T04:22:30.808Z"
      },
      {
        "duration": 38,
        "start_time": "2022-08-02T04:22:30.821Z"
      },
      {
        "duration": 26,
        "start_time": "2022-08-02T04:22:30.861Z"
      },
      {
        "duration": 43,
        "start_time": "2022-08-02T04:22:30.890Z"
      },
      {
        "duration": 69,
        "start_time": "2022-08-02T04:22:30.935Z"
      },
      {
        "duration": 69,
        "start_time": "2022-08-02T04:22:31.006Z"
      },
      {
        "duration": 49,
        "start_time": "2022-08-02T04:22:31.077Z"
      },
      {
        "duration": 12,
        "start_time": "2022-08-02T04:22:31.137Z"
      },
      {
        "duration": 11,
        "start_time": "2022-08-02T04:22:31.151Z"
      },
      {
        "duration": 5,
        "start_time": "2022-08-02T04:22:31.163Z"
      },
      {
        "duration": 13,
        "start_time": "2022-08-02T04:22:31.169Z"
      },
      {
        "duration": 23,
        "start_time": "2022-08-02T04:22:31.183Z"
      },
      {
        "duration": 10,
        "start_time": "2022-08-02T04:22:31.208Z"
      },
      {
        "duration": 29,
        "start_time": "2022-08-02T04:22:31.219Z"
      },
      {
        "duration": 14,
        "start_time": "2022-08-02T04:22:31.249Z"
      },
      {
        "duration": 15,
        "start_time": "2022-08-02T04:22:31.265Z"
      },
      {
        "duration": 22,
        "start_time": "2022-08-02T04:22:31.281Z"
      },
      {
        "duration": 14,
        "start_time": "2022-08-02T04:22:31.305Z"
      },
      {
        "duration": 15,
        "start_time": "2022-08-02T04:22:31.336Z"
      },
      {
        "duration": 13,
        "start_time": "2022-08-02T04:22:31.353Z"
      },
      {
        "duration": 8,
        "start_time": "2022-08-02T04:22:31.368Z"
      },
      {
        "duration": 12,
        "start_time": "2022-08-02T04:22:31.379Z"
      },
      {
        "duration": 32,
        "start_time": "2022-08-02T04:22:31.392Z"
      },
      {
        "duration": 16,
        "start_time": "2022-08-02T04:22:31.426Z"
      },
      {
        "duration": 3761,
        "start_time": "2022-08-02T04:22:31.443Z"
      },
      {
        "duration": 2578,
        "start_time": "2022-08-02T04:22:35.206Z"
      },
      {
        "duration": 1156,
        "start_time": "2022-08-02T04:22:37.785Z"
      },
      {
        "duration": 2631,
        "start_time": "2022-08-02T04:22:38.943Z"
      },
      {
        "duration": 1139,
        "start_time": "2022-08-02T04:22:41.575Z"
      },
      {
        "duration": 28,
        "start_time": "2022-08-02T04:22:42.716Z"
      },
      {
        "duration": 5,
        "start_time": "2022-08-02T04:22:42.745Z"
      },
      {
        "duration": 18,
        "start_time": "2022-08-02T04:22:42.751Z"
      },
      {
        "duration": 5,
        "start_time": "2022-08-02T04:22:42.771Z"
      },
      {
        "duration": 58,
        "start_time": "2022-08-02T13:19:06.329Z"
      },
      {
        "duration": 12,
        "start_time": "2022-08-02T13:19:31.071Z"
      },
      {
        "duration": 380,
        "start_time": "2022-08-02T13:19:40.833Z"
      },
      {
        "duration": 569,
        "start_time": "2022-08-02T13:19:41.215Z"
      },
      {
        "duration": 140,
        "start_time": "2022-08-02T13:19:41.786Z"
      },
      {
        "duration": 11,
        "start_time": "2022-08-02T13:19:41.928Z"
      },
      {
        "duration": 45,
        "start_time": "2022-08-02T13:19:41.941Z"
      },
      {
        "duration": 4,
        "start_time": "2022-08-02T13:19:41.988Z"
      },
      {
        "duration": 12,
        "start_time": "2022-08-02T13:19:41.993Z"
      },
      {
        "duration": 6,
        "start_time": "2022-08-02T13:19:42.007Z"
      },
      {
        "duration": 43,
        "start_time": "2022-08-02T13:19:42.014Z"
      },
      {
        "duration": 21,
        "start_time": "2022-08-02T13:19:42.058Z"
      },
      {
        "duration": 38,
        "start_time": "2022-08-02T13:19:42.080Z"
      },
      {
        "duration": 74,
        "start_time": "2022-08-02T13:19:42.120Z"
      },
      {
        "duration": 100,
        "start_time": "2022-08-02T13:19:42.195Z"
      },
      {
        "duration": 82,
        "start_time": "2022-08-02T13:19:42.300Z"
      },
      {
        "duration": 14,
        "start_time": "2022-08-02T13:19:42.386Z"
      },
      {
        "duration": 10,
        "start_time": "2022-08-02T13:19:42.403Z"
      },
      {
        "duration": 6,
        "start_time": "2022-08-02T13:19:42.415Z"
      },
      {
        "duration": 13,
        "start_time": "2022-08-02T13:19:42.423Z"
      },
      {
        "duration": 43,
        "start_time": "2022-08-02T13:19:42.452Z"
      },
      {
        "duration": 10,
        "start_time": "2022-08-02T13:19:42.496Z"
      },
      {
        "duration": 17,
        "start_time": "2022-08-02T13:19:42.508Z"
      },
      {
        "duration": 15,
        "start_time": "2022-08-02T13:19:42.527Z"
      },
      {
        "duration": 35,
        "start_time": "2022-08-02T13:19:42.545Z"
      },
      {
        "duration": 15,
        "start_time": "2022-08-02T13:19:42.583Z"
      },
      {
        "duration": 12,
        "start_time": "2022-08-02T13:19:42.600Z"
      },
      {
        "duration": 26,
        "start_time": "2022-08-02T13:19:42.614Z"
      },
      {
        "duration": 38,
        "start_time": "2022-08-02T13:19:42.642Z"
      },
      {
        "duration": 6,
        "start_time": "2022-08-02T13:19:42.681Z"
      },
      {
        "duration": 9,
        "start_time": "2022-08-02T13:19:42.689Z"
      },
      {
        "duration": 25,
        "start_time": "2022-08-02T13:19:42.700Z"
      },
      {
        "duration": 8,
        "start_time": "2022-08-02T13:19:42.726Z"
      },
      {
        "duration": 4334,
        "start_time": "2022-08-02T13:19:42.736Z"
      },
      {
        "duration": 3954,
        "start_time": "2022-08-02T13:19:55.449Z"
      },
      {
        "duration": 4082,
        "start_time": "2022-08-02T13:20:07.134Z"
      },
      {
        "duration": 4499,
        "start_time": "2022-08-02T13:22:44.097Z"
      },
      {
        "duration": 4651,
        "start_time": "2022-08-02T13:23:43.689Z"
      },
      {
        "duration": 4336,
        "start_time": "2022-08-02T13:24:26.947Z"
      },
      {
        "duration": 4224,
        "start_time": "2022-08-02T13:26:28.391Z"
      },
      {
        "duration": 4443,
        "start_time": "2022-08-02T13:27:26.441Z"
      },
      {
        "duration": 4194,
        "start_time": "2022-08-02T13:27:46.053Z"
      },
      {
        "duration": 4323,
        "start_time": "2022-08-02T13:28:13.679Z"
      },
      {
        "duration": 4415,
        "start_time": "2022-08-02T13:28:27.037Z"
      },
      {
        "duration": 4010,
        "start_time": "2022-08-02T13:29:07.777Z"
      },
      {
        "duration": 4150,
        "start_time": "2022-08-02T13:30:32.783Z"
      },
      {
        "duration": 4415,
        "start_time": "2022-08-02T13:30:47.178Z"
      },
      {
        "duration": 4194,
        "start_time": "2022-08-02T13:42:04.449Z"
      },
      {
        "duration": 3996,
        "start_time": "2022-08-02T13:42:57.772Z"
      },
      {
        "duration": 4135,
        "start_time": "2022-08-02T13:43:35.877Z"
      },
      {
        "duration": 2833,
        "start_time": "2022-08-02T13:44:05.181Z"
      },
      {
        "duration": 1287,
        "start_time": "2022-08-02T13:44:08.016Z"
      },
      {
        "duration": 2855,
        "start_time": "2022-08-02T13:44:09.304Z"
      },
      {
        "duration": 1234,
        "start_time": "2022-08-02T13:44:12.166Z"
      },
      {
        "duration": 20,
        "start_time": "2022-08-02T13:44:13.401Z"
      },
      {
        "duration": 6,
        "start_time": "2022-08-02T13:44:13.423Z"
      },
      {
        "duration": 39,
        "start_time": "2022-08-02T13:44:13.430Z"
      },
      {
        "duration": 6,
        "start_time": "2022-08-02T13:44:13.480Z"
      },
      {
        "duration": 5,
        "start_time": "2022-08-02T13:54:43.441Z"
      },
      {
        "duration": 15,
        "start_time": "2022-08-02T13:55:05.094Z"
      },
      {
        "duration": 8,
        "start_time": "2022-08-02T13:55:12.840Z"
      },
      {
        "duration": 4,
        "start_time": "2022-08-02T13:55:21.840Z"
      },
      {
        "duration": 6,
        "start_time": "2022-08-02T13:55:35.545Z"
      },
      {
        "duration": 4,
        "start_time": "2022-08-02T13:55:36.802Z"
      },
      {
        "duration": 81,
        "start_time": "2022-08-02T13:58:28.541Z"
      },
      {
        "duration": 8,
        "start_time": "2022-08-02T13:58:36.045Z"
      },
      {
        "duration": 16,
        "start_time": "2022-08-02T13:58:37.998Z"
      },
      {
        "duration": 13,
        "start_time": "2022-08-02T13:58:38.382Z"
      },
      {
        "duration": 15,
        "start_time": "2022-08-02T13:58:39.180Z"
      },
      {
        "duration": 14,
        "start_time": "2022-08-02T13:58:39.690Z"
      },
      {
        "duration": 14,
        "start_time": "2022-08-02T13:58:40.244Z"
      },
      {
        "duration": 18,
        "start_time": "2022-08-02T13:58:40.749Z"
      },
      {
        "duration": 14,
        "start_time": "2022-08-02T13:58:40.946Z"
      },
      {
        "duration": 14,
        "start_time": "2022-08-02T13:58:41.236Z"
      },
      {
        "duration": 12,
        "start_time": "2022-08-02T13:58:41.436Z"
      },
      {
        "duration": 6,
        "start_time": "2022-08-02T13:58:42.242Z"
      },
      {
        "duration": 2,
        "start_time": "2022-08-02T13:58:42.466Z"
      },
      {
        "duration": 27,
        "start_time": "2022-08-02T13:58:43.938Z"
      },
      {
        "duration": 15,
        "start_time": "2022-08-02T13:58:44.244Z"
      },
      {
        "duration": 4417,
        "start_time": "2022-08-02T13:58:44.765Z"
      },
      {
        "duration": 2666,
        "start_time": "2022-08-02T13:58:49.183Z"
      },
      {
        "duration": 1167,
        "start_time": "2022-08-02T13:58:51.855Z"
      },
      {
        "duration": 2633,
        "start_time": "2022-08-02T13:58:53.024Z"
      },
      {
        "duration": 1175,
        "start_time": "2022-08-02T13:58:55.660Z"
      },
      {
        "duration": 7,
        "start_time": "2022-08-02T13:58:56.836Z"
      },
      {
        "duration": 16,
        "start_time": "2022-08-02T13:58:56.844Z"
      },
      {
        "duration": 21,
        "start_time": "2022-08-02T13:58:56.864Z"
      },
      {
        "duration": 13,
        "start_time": "2022-08-02T13:58:56.886Z"
      },
      {
        "duration": 105,
        "start_time": "2022-08-02T13:59:40.943Z"
      },
      {
        "duration": 2,
        "start_time": "2022-08-02T14:00:00.439Z"
      },
      {
        "duration": 166,
        "start_time": "2022-08-02T14:00:00.444Z"
      },
      {
        "duration": 119,
        "start_time": "2022-08-02T14:00:00.612Z"
      },
      {
        "duration": 10,
        "start_time": "2022-08-02T14:00:00.733Z"
      },
      {
        "duration": 33,
        "start_time": "2022-08-02T14:00:00.751Z"
      },
      {
        "duration": 10,
        "start_time": "2022-08-02T14:00:00.785Z"
      },
      {
        "duration": 16,
        "start_time": "2022-08-02T14:00:00.796Z"
      },
      {
        "duration": 10,
        "start_time": "2022-08-02T14:00:00.814Z"
      },
      {
        "duration": 30,
        "start_time": "2022-08-02T14:00:00.825Z"
      },
      {
        "duration": 29,
        "start_time": "2022-08-02T14:00:00.856Z"
      },
      {
        "duration": 34,
        "start_time": "2022-08-02T14:00:00.887Z"
      },
      {
        "duration": 65,
        "start_time": "2022-08-02T14:00:00.923Z"
      },
      {
        "duration": 75,
        "start_time": "2022-08-02T14:00:00.990Z"
      },
      {
        "duration": 50,
        "start_time": "2022-08-02T14:00:01.067Z"
      },
      {
        "duration": 14,
        "start_time": "2022-08-02T14:00:01.119Z"
      },
      {
        "duration": 23,
        "start_time": "2022-08-02T14:00:01.134Z"
      },
      {
        "duration": 61,
        "start_time": "2022-08-02T14:00:02.389Z"
      },
      {
        "duration": 3,
        "start_time": "2022-08-02T14:00:15.081Z"
      },
      {
        "duration": 2,
        "start_time": "2022-08-02T14:00:21.247Z"
      },
      {
        "duration": 161,
        "start_time": "2022-08-02T14:00:21.251Z"
      },
      {
        "duration": 124,
        "start_time": "2022-08-02T14:00:21.413Z"
      },
      {
        "duration": 9,
        "start_time": "2022-08-02T14:00:21.538Z"
      },
      {
        "duration": 31,
        "start_time": "2022-08-02T14:00:21.552Z"
      },
      {
        "duration": 4,
        "start_time": "2022-08-02T14:00:21.584Z"
      },
      {
        "duration": 8,
        "start_time": "2022-08-02T14:00:21.589Z"
      },
      {
        "duration": 4,
        "start_time": "2022-08-02T14:00:21.598Z"
      },
      {
        "duration": 56,
        "start_time": "2022-08-02T14:00:21.604Z"
      },
      {
        "duration": 21,
        "start_time": "2022-08-02T14:00:21.661Z"
      },
      {
        "duration": 25,
        "start_time": "2022-08-02T14:00:21.683Z"
      },
      {
        "duration": 73,
        "start_time": "2022-08-02T14:00:21.709Z"
      },
      {
        "duration": 79,
        "start_time": "2022-08-02T14:00:21.785Z"
      },
      {
        "duration": 51,
        "start_time": "2022-08-02T14:00:21.866Z"
      },
      {
        "duration": 12,
        "start_time": "2022-08-02T14:00:21.919Z"
      },
      {
        "duration": 34,
        "start_time": "2022-08-02T14:00:21.932Z"
      },
      {
        "duration": 54,
        "start_time": "2022-08-02T14:00:21.968Z"
      },
      {
        "duration": 2,
        "start_time": "2022-08-02T14:00:22.024Z"
      },
      {
        "duration": 11,
        "start_time": "2022-08-02T14:00:22.028Z"
      },
      {
        "duration": 23,
        "start_time": "2022-08-02T14:00:22.041Z"
      },
      {
        "duration": 12,
        "start_time": "2022-08-02T14:00:22.066Z"
      },
      {
        "duration": 14,
        "start_time": "2022-08-02T14:00:22.080Z"
      },
      {
        "duration": 14,
        "start_time": "2022-08-02T14:00:22.096Z"
      },
      {
        "duration": 11,
        "start_time": "2022-08-02T14:00:22.111Z"
      },
      {
        "duration": 41,
        "start_time": "2022-08-02T14:00:22.124Z"
      },
      {
        "duration": 13,
        "start_time": "2022-08-02T14:00:22.167Z"
      },
      {
        "duration": 15,
        "start_time": "2022-08-02T14:00:22.181Z"
      },
      {
        "duration": 12,
        "start_time": "2022-08-02T14:00:22.197Z"
      },
      {
        "duration": 6,
        "start_time": "2022-08-02T14:00:22.210Z"
      },
      {
        "duration": 10,
        "start_time": "2022-08-02T14:00:22.217Z"
      },
      {
        "duration": 45,
        "start_time": "2022-08-02T14:00:22.228Z"
      },
      {
        "duration": 12,
        "start_time": "2022-08-02T14:00:22.274Z"
      },
      {
        "duration": 3828,
        "start_time": "2022-08-02T14:00:22.289Z"
      },
      {
        "duration": 2861,
        "start_time": "2022-08-02T14:00:26.118Z"
      },
      {
        "duration": 1218,
        "start_time": "2022-08-02T14:00:28.981Z"
      },
      {
        "duration": 2607,
        "start_time": "2022-08-02T14:00:30.200Z"
      },
      {
        "duration": 1152,
        "start_time": "2022-08-02T14:00:32.808Z"
      },
      {
        "duration": 8,
        "start_time": "2022-08-02T14:00:33.961Z"
      },
      {
        "duration": 4,
        "start_time": "2022-08-02T14:00:33.970Z"
      },
      {
        "duration": 10,
        "start_time": "2022-08-02T14:00:33.975Z"
      },
      {
        "duration": 5,
        "start_time": "2022-08-02T14:00:33.987Z"
      },
      {
        "duration": 66,
        "start_time": "2022-08-02T14:00:33.994Z"
      },
      {
        "duration": 8,
        "start_time": "2022-08-02T14:00:34.411Z"
      },
      {
        "duration": 11,
        "start_time": "2022-08-02T14:00:46.755Z"
      },
      {
        "duration": 2,
        "start_time": "2022-08-02T14:01:31.487Z"
      },
      {
        "duration": 144,
        "start_time": "2022-08-02T14:01:32.038Z"
      },
      {
        "duration": 119,
        "start_time": "2022-08-02T14:01:32.247Z"
      },
      {
        "duration": 14,
        "start_time": "2022-08-02T14:01:32.651Z"
      },
      {
        "duration": 27,
        "start_time": "2022-08-02T14:01:33.453Z"
      },
      {
        "duration": 5,
        "start_time": "2022-08-02T14:01:36.270Z"
      },
      {
        "duration": 7,
        "start_time": "2022-08-02T14:01:39.304Z"
      },
      {
        "duration": 4,
        "start_time": "2022-08-02T14:01:40.270Z"
      },
      {
        "duration": 24,
        "start_time": "2022-08-02T14:01:42.963Z"
      },
      {
        "duration": 15,
        "start_time": "2022-08-02T14:01:44.780Z"
      },
      {
        "duration": 21,
        "start_time": "2022-08-02T14:01:46.699Z"
      },
      {
        "duration": 60,
        "start_time": "2022-08-02T14:01:54.253Z"
      },
      {
        "duration": 96,
        "start_time": "2022-08-02T14:01:56.091Z"
      },
      {
        "duration": 47,
        "start_time": "2022-08-02T14:01:58.469Z"
      },
      {
        "duration": 12,
        "start_time": "2022-08-02T14:02:02.070Z"
      },
      {
        "duration": 7,
        "start_time": "2022-08-02T14:03:37.849Z"
      },
      {
        "duration": 10,
        "start_time": "2022-08-02T14:03:43.785Z"
      },
      {
        "duration": 2,
        "start_time": "2022-08-02T14:03:45.234Z"
      },
      {
        "duration": 6,
        "start_time": "2022-08-02T14:03:46.398Z"
      },
      {
        "duration": 53,
        "start_time": "2022-08-02T14:06:00.136Z"
      },
      {
        "duration": 10,
        "start_time": "2022-08-02T14:07:35.749Z"
      },
      {
        "duration": 4,
        "start_time": "2022-08-02T14:07:37.106Z"
      },
      {
        "duration": 8,
        "start_time": "2022-08-02T14:07:38.160Z"
      },
      {
        "duration": 56,
        "start_time": "2022-08-02T14:08:16.444Z"
      },
      {
        "duration": 6,
        "start_time": "2022-08-02T14:17:28.735Z"
      },
      {
        "duration": 61,
        "start_time": "2022-08-02T14:18:03.844Z"
      },
      {
        "duration": 51,
        "start_time": "2022-08-02T14:19:28.196Z"
      },
      {
        "duration": 6,
        "start_time": "2022-08-02T14:19:43.887Z"
      },
      {
        "duration": 55,
        "start_time": "2022-08-02T14:24:44.464Z"
      },
      {
        "duration": 50,
        "start_time": "2022-08-02T14:24:46.363Z"
      },
      {
        "duration": 52,
        "start_time": "2022-08-02T14:34:37.478Z"
      },
      {
        "duration": 6,
        "start_time": "2022-08-02T14:34:45.342Z"
      },
      {
        "duration": 46,
        "start_time": "2022-08-02T14:34:47.849Z"
      },
      {
        "duration": 11,
        "start_time": "2022-08-02T14:34:50.152Z"
      },
      {
        "duration": 10,
        "start_time": "2022-08-02T14:34:50.539Z"
      },
      {
        "duration": 15,
        "start_time": "2022-08-02T14:34:51.134Z"
      },
      {
        "duration": 15,
        "start_time": "2022-08-02T14:34:51.507Z"
      },
      {
        "duration": 12,
        "start_time": "2022-08-02T14:34:51.696Z"
      },
      {
        "duration": 13,
        "start_time": "2022-08-02T14:34:51.877Z"
      },
      {
        "duration": 13,
        "start_time": "2022-08-02T14:34:55.093Z"
      },
      {
        "duration": 16,
        "start_time": "2022-08-02T14:34:55.285Z"
      },
      {
        "duration": 13,
        "start_time": "2022-08-02T14:34:55.484Z"
      },
      {
        "duration": 5,
        "start_time": "2022-08-02T14:34:55.848Z"
      },
      {
        "duration": 2,
        "start_time": "2022-08-02T14:34:56.038Z"
      },
      {
        "duration": 20,
        "start_time": "2022-08-02T14:34:58.649Z"
      },
      {
        "duration": 446,
        "start_time": "2022-08-02T23:54:58.599Z"
      },
      {
        "duration": 475,
        "start_time": "2022-08-02T23:54:59.047Z"
      },
      {
        "duration": 143,
        "start_time": "2022-08-02T23:54:59.524Z"
      },
      {
        "duration": 10,
        "start_time": "2022-08-02T23:54:59.669Z"
      },
      {
        "duration": 44,
        "start_time": "2022-08-02T23:54:59.682Z"
      },
      {
        "duration": 4,
        "start_time": "2022-08-02T23:54:59.727Z"
      },
      {
        "duration": 15,
        "start_time": "2022-08-02T23:54:59.733Z"
      },
      {
        "duration": 9,
        "start_time": "2022-08-02T23:54:59.749Z"
      },
      {
        "duration": 25,
        "start_time": "2022-08-02T23:54:59.760Z"
      },
      {
        "duration": 39,
        "start_time": "2022-08-02T23:54:59.787Z"
      },
      {
        "duration": 26,
        "start_time": "2022-08-02T23:54:59.828Z"
      },
      {
        "duration": 79,
        "start_time": "2022-08-02T23:54:59.856Z"
      },
      {
        "duration": 91,
        "start_time": "2022-08-02T23:54:59.937Z"
      },
      {
        "duration": 63,
        "start_time": "2022-08-02T23:55:00.031Z"
      },
      {
        "duration": 16,
        "start_time": "2022-08-02T23:55:00.109Z"
      },
      {
        "duration": 11,
        "start_time": "2022-08-02T23:55:00.127Z"
      },
      {
        "duration": 8,
        "start_time": "2022-08-02T23:55:00.140Z"
      },
      {
        "duration": 86,
        "start_time": "2022-08-02T23:55:00.149Z"
      },
      {
        "duration": 12,
        "start_time": "2022-08-02T23:55:00.236Z"
      },
      {
        "duration": 25,
        "start_time": "2022-08-02T23:55:00.250Z"
      },
      {
        "duration": 18,
        "start_time": "2022-08-02T23:55:00.277Z"
      },
      {
        "duration": 30,
        "start_time": "2022-08-02T23:55:00.297Z"
      },
      {
        "duration": 19,
        "start_time": "2022-08-02T23:55:00.329Z"
      },
      {
        "duration": 16,
        "start_time": "2022-08-02T23:55:00.350Z"
      },
      {
        "duration": 45,
        "start_time": "2022-08-02T23:55:00.369Z"
      },
      {
        "duration": 39,
        "start_time": "2022-08-02T23:55:00.416Z"
      },
      {
        "duration": 32,
        "start_time": "2022-08-02T23:55:00.457Z"
      },
      {
        "duration": 16,
        "start_time": "2022-08-02T23:55:00.491Z"
      },
      {
        "duration": 49,
        "start_time": "2022-08-02T23:55:00.509Z"
      },
      {
        "duration": 12,
        "start_time": "2022-08-02T23:55:00.560Z"
      },
      {
        "duration": 4155,
        "start_time": "2022-08-02T23:55:00.574Z"
      },
      {
        "duration": 2926,
        "start_time": "2022-08-02T23:55:04.730Z"
      },
      {
        "duration": 1314,
        "start_time": "2022-08-02T23:55:07.658Z"
      },
      {
        "duration": 2937,
        "start_time": "2022-08-02T23:55:08.973Z"
      },
      {
        "duration": 1300,
        "start_time": "2022-08-02T23:55:11.912Z"
      },
      {
        "duration": 10,
        "start_time": "2022-08-02T23:55:13.214Z"
      },
      {
        "duration": 18,
        "start_time": "2022-08-02T23:55:13.226Z"
      },
      {
        "duration": 22,
        "start_time": "2022-08-02T23:55:13.246Z"
      },
      {
        "duration": 15,
        "start_time": "2022-08-02T23:55:13.270Z"
      },
      {
        "duration": 104,
        "start_time": "2022-08-03T00:05:18.848Z"
      },
      {
        "duration": 49,
        "start_time": "2022-08-08T21:50:26.712Z"
      },
      {
        "duration": 359,
        "start_time": "2022-08-08T21:50:36.254Z"
      },
      {
        "duration": 222,
        "start_time": "2022-08-08T21:50:36.615Z"
      },
      {
        "duration": 124,
        "start_time": "2022-08-08T21:50:36.839Z"
      },
      {
        "duration": 11,
        "start_time": "2022-08-08T21:50:36.965Z"
      },
      {
        "duration": 35,
        "start_time": "2022-08-08T21:50:36.977Z"
      },
      {
        "duration": 4,
        "start_time": "2022-08-08T21:50:37.013Z"
      },
      {
        "duration": 13,
        "start_time": "2022-08-08T21:50:37.018Z"
      },
      {
        "duration": 10,
        "start_time": "2022-08-08T21:50:37.032Z"
      },
      {
        "duration": 29,
        "start_time": "2022-08-08T21:50:37.044Z"
      },
      {
        "duration": 19,
        "start_time": "2022-08-08T21:50:37.075Z"
      },
      {
        "duration": 33,
        "start_time": "2022-08-08T21:50:37.108Z"
      },
      {
        "duration": 62,
        "start_time": "2022-08-08T21:50:37.354Z"
      },
      {
        "duration": 71,
        "start_time": "2022-08-08T21:50:37.419Z"
      },
      {
        "duration": 67,
        "start_time": "2022-08-08T21:50:37.492Z"
      },
      {
        "duration": 14,
        "start_time": "2022-08-08T21:50:37.629Z"
      },
      {
        "duration": 10,
        "start_time": "2022-08-08T21:50:37.645Z"
      },
      {
        "duration": 6,
        "start_time": "2022-08-08T21:50:37.677Z"
      },
      {
        "duration": 54,
        "start_time": "2022-08-08T21:50:37.904Z"
      },
      {
        "duration": 12,
        "start_time": "2022-08-08T21:50:37.960Z"
      },
      {
        "duration": 39,
        "start_time": "2022-08-08T21:50:37.974Z"
      },
      {
        "duration": 17,
        "start_time": "2022-08-08T21:50:38.178Z"
      },
      {
        "duration": 15,
        "start_time": "2022-08-08T21:50:38.198Z"
      },
      {
        "duration": 14,
        "start_time": "2022-08-08T21:50:38.215Z"
      },
      {
        "duration": 15,
        "start_time": "2022-08-08T21:50:38.285Z"
      },
      {
        "duration": 13,
        "start_time": "2022-08-08T21:50:38.303Z"
      },
      {
        "duration": 16,
        "start_time": "2022-08-08T21:50:38.454Z"
      },
      {
        "duration": 17,
        "start_time": "2022-08-08T21:50:38.473Z"
      },
      {
        "duration": 8,
        "start_time": "2022-08-08T21:50:38.492Z"
      },
      {
        "duration": 23,
        "start_time": "2022-08-08T21:50:38.502Z"
      },
      {
        "duration": 10,
        "start_time": "2022-08-08T21:50:38.560Z"
      },
      {
        "duration": 3682,
        "start_time": "2022-08-08T21:50:38.727Z"
      },
      {
        "duration": 31,
        "start_time": "2022-08-08T21:50:42.411Z"
      },
      {
        "duration": 0,
        "start_time": "2022-08-08T21:50:42.443Z"
      },
      {
        "duration": 0,
        "start_time": "2022-08-08T21:50:42.445Z"
      },
      {
        "duration": 0,
        "start_time": "2022-08-08T21:50:42.447Z"
      },
      {
        "duration": 0,
        "start_time": "2022-08-08T21:50:42.448Z"
      },
      {
        "duration": 0,
        "start_time": "2022-08-08T21:50:42.449Z"
      },
      {
        "duration": 0,
        "start_time": "2022-08-08T21:50:42.451Z"
      },
      {
        "duration": 0,
        "start_time": "2022-08-08T21:50:42.452Z"
      },
      {
        "duration": 0,
        "start_time": "2022-08-08T21:50:42.454Z"
      },
      {
        "duration": 10,
        "start_time": "2022-08-08T21:51:14.066Z"
      },
      {
        "duration": 7,
        "start_time": "2022-08-08T22:08:52.137Z"
      },
      {
        "duration": 3,
        "start_time": "2022-08-08T22:09:02.303Z"
      },
      {
        "duration": 175,
        "start_time": "2022-08-08T22:09:02.311Z"
      },
      {
        "duration": 131,
        "start_time": "2022-08-08T22:09:02.488Z"
      },
      {
        "duration": 10,
        "start_time": "2022-08-08T22:09:02.621Z"
      },
      {
        "duration": 30,
        "start_time": "2022-08-08T22:09:02.632Z"
      },
      {
        "duration": 4,
        "start_time": "2022-08-08T22:09:02.665Z"
      },
      {
        "duration": 12,
        "start_time": "2022-08-08T22:09:02.671Z"
      },
      {
        "duration": 3,
        "start_time": "2022-08-08T22:09:02.709Z"
      },
      {
        "duration": 26,
        "start_time": "2022-08-08T22:09:02.714Z"
      },
      {
        "duration": 15,
        "start_time": "2022-08-08T22:09:02.742Z"
      },
      {
        "duration": 29,
        "start_time": "2022-08-08T22:09:02.758Z"
      },
      {
        "duration": 76,
        "start_time": "2022-08-08T22:09:02.788Z"
      },
      {
        "duration": 79,
        "start_time": "2022-08-08T22:09:02.866Z"
      },
      {
        "duration": 62,
        "start_time": "2022-08-08T22:09:02.947Z"
      },
      {
        "duration": 13,
        "start_time": "2022-08-08T22:09:03.012Z"
      },
      {
        "duration": 10,
        "start_time": "2022-08-08T22:09:03.026Z"
      },
      {
        "duration": 6,
        "start_time": "2022-08-08T22:09:03.037Z"
      },
      {
        "duration": 81,
        "start_time": "2022-08-08T22:09:03.045Z"
      },
      {
        "duration": 10,
        "start_time": "2022-08-08T22:09:03.128Z"
      },
      {
        "duration": 10,
        "start_time": "2022-08-08T22:09:03.140Z"
      },
      {
        "duration": 22,
        "start_time": "2022-08-08T22:09:03.152Z"
      },
      {
        "duration": 38,
        "start_time": "2022-08-08T22:09:03.176Z"
      },
      {
        "duration": 15,
        "start_time": "2022-08-08T22:09:03.216Z"
      },
      {
        "duration": 15,
        "start_time": "2022-08-08T22:09:03.232Z"
      },
      {
        "duration": 13,
        "start_time": "2022-08-08T22:09:03.249Z"
      },
      {
        "duration": 21,
        "start_time": "2022-08-08T22:09:03.263Z"
      },
      {
        "duration": 13,
        "start_time": "2022-08-08T22:09:03.309Z"
      },
      {
        "duration": 7,
        "start_time": "2022-08-08T22:09:03.324Z"
      },
      {
        "duration": 30,
        "start_time": "2022-08-08T22:09:03.333Z"
      },
      {
        "duration": 10,
        "start_time": "2022-08-08T22:09:03.365Z"
      },
      {
        "duration": 9,
        "start_time": "2022-08-08T22:09:05.701Z"
      },
      {
        "duration": 3708,
        "start_time": "2022-08-08T22:09:27.776Z"
      },
      {
        "duration": 2735,
        "start_time": "2022-08-08T22:09:34.864Z"
      },
      {
        "duration": 1217,
        "start_time": "2022-08-08T22:11:56.443Z"
      },
      {
        "duration": 2625,
        "start_time": "2022-08-08T22:11:57.661Z"
      },
      {
        "duration": 1174,
        "start_time": "2022-08-08T22:12:00.288Z"
      },
      {
        "duration": 9,
        "start_time": "2022-08-08T22:12:01.464Z"
      },
      {
        "duration": 4,
        "start_time": "2022-08-08T22:12:01.570Z"
      },
      {
        "duration": 6,
        "start_time": "2022-08-08T22:12:01.989Z"
      },
      {
        "duration": 4,
        "start_time": "2022-08-08T22:12:02.809Z"
      }
    ],
    "colab": {
      "collapsed_sections": [
        "E0vqbgi9ay0H",
        "VUC88oWjTJw2",
        "atZAxtq4_Zcu"
      ],
      "name": "00944da7-c5ac-441f-bdf1-2d3d5230eb0a (2).ipynb",
      "provenance": []
    },
    "kernelspec": {
      "display_name": "Python 3 (ipykernel)",
      "language": "python",
      "name": "python3"
    },
    "language_info": {
      "codemirror_mode": {
        "name": "ipython",
        "version": 3
      },
      "file_extension": ".py",
      "mimetype": "text/x-python",
      "name": "python",
      "nbconvert_exporter": "python",
      "pygments_lexer": "ipython3",
      "version": "3.9.5"
    },
    "toc": {
      "base_numbering": 1,
      "nav_menu": {},
      "number_sections": true,
      "sideBar": true,
      "skip_h1_title": true,
      "title_cell": "Table of Contents",
      "title_sidebar": "Contents",
      "toc_cell": false,
      "toc_position": {},
      "toc_section_display": true,
      "toc_window_display": false
    }
  },
  "nbformat": 4,
  "nbformat_minor": 0
}